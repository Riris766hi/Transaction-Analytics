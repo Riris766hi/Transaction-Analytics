{
 "cells": [
  {
   "cell_type": "markdown",
   "metadata": {},
   "source": [
    "### Data Preparation and Preliminary Check"
   ]
  },
  {
   "cell_type": "code",
   "execution_count": 1,
   "metadata": {},
   "outputs": [],
   "source": [
    "#import library\n",
    "import numpy as np # linear algebra\n",
    "import pandas as pd # data processing, CSV file I/O (e.g. pd.read_csv)\n",
    "import matplotlib.pyplot as plt # Visualization\n",
    "import seaborn as sns # For easier statistical plotting\n",
    "import datetime\n",
    "sns.set_style(\"whitegrid\")\n",
    "\n",
    "import warnings\n",
    "warnings. filterwarnings('ignore')"
   ]
  },
  {
   "cell_type": "code",
   "execution_count": 2,
   "metadata": {},
   "outputs": [],
   "source": [
    "#loading the dataset from csv file\n",
    "df =  pd.read_csv('transaction.csv')"
   ]
  },
  {
   "cell_type": "code",
   "execution_count": 3,
   "metadata": {},
   "outputs": [
    {
     "data": {
      "text/html": [
       "<div>\n",
       "<style scoped>\n",
       "    .dataframe tbody tr th:only-of-type {\n",
       "        vertical-align: middle;\n",
       "    }\n",
       "\n",
       "    .dataframe tbody tr th {\n",
       "        vertical-align: top;\n",
       "    }\n",
       "\n",
       "    .dataframe thead th {\n",
       "        text-align: right;\n",
       "    }\n",
       "</style>\n",
       "<table border=\"1\" class=\"dataframe\">\n",
       "  <thead>\n",
       "    <tr style=\"text-align: right;\">\n",
       "      <th></th>\n",
       "      <th>client_id</th>\n",
       "      <th>invoice_id</th>\n",
       "      <th>invoice_item_id</th>\n",
       "      <th>invoice_status</th>\n",
       "      <th>service_status</th>\n",
       "      <th>product_id</th>\n",
       "      <th>monthly_price_usd</th>\n",
       "      <th>discount</th>\n",
       "      <th>service_period</th>\n",
       "      <th>client_task</th>\n",
       "      <th>invoice_created_at</th>\n",
       "      <th>invoice_paid_at</th>\n",
       "      <th>service_cancelled_at</th>\n",
       "      <th>monthly_period</th>\n",
       "      <th>total_price</th>\n",
       "      <th>discounted_price</th>\n",
       "    </tr>\n",
       "  </thead>\n",
       "  <tbody>\n",
       "    <tr>\n",
       "      <th>0</th>\n",
       "      <td>9162</td>\n",
       "      <td>872143.0</td>\n",
       "      <td>1115707</td>\n",
       "      <td>Paid</td>\n",
       "      <td>Active</td>\n",
       "      <td>4</td>\n",
       "      <td>18</td>\n",
       "      <td>0.42</td>\n",
       "      <td>1Y</td>\n",
       "      <td>Renew</td>\n",
       "      <td>2019-12-05T22:36:44Z</td>\n",
       "      <td>2019-12-25T12:30:11Z</td>\n",
       "      <td>NaN</td>\n",
       "      <td>12</td>\n",
       "      <td>216</td>\n",
       "      <td>125.28</td>\n",
       "    </tr>\n",
       "    <tr>\n",
       "      <th>1</th>\n",
       "      <td>246708</td>\n",
       "      <td>875146.0</td>\n",
       "      <td>841327</td>\n",
       "      <td>Paid</td>\n",
       "      <td>Active</td>\n",
       "      <td>11</td>\n",
       "      <td>39</td>\n",
       "      <td>0.14</td>\n",
       "      <td>1M</td>\n",
       "      <td>Activate</td>\n",
       "      <td>2019-12-09T04:20:49Z</td>\n",
       "      <td>2019-12-09T04:25:11Z</td>\n",
       "      <td>NaN</td>\n",
       "      <td>1</td>\n",
       "      <td>39</td>\n",
       "      <td>33.54</td>\n",
       "    </tr>\n",
       "    <tr>\n",
       "      <th>2</th>\n",
       "      <td>52476</td>\n",
       "      <td>856128.0</td>\n",
       "      <td>1197628</td>\n",
       "      <td>Paid</td>\n",
       "      <td>Active</td>\n",
       "      <td>12</td>\n",
       "      <td>49</td>\n",
       "      <td>0.69</td>\n",
       "      <td>1M</td>\n",
       "      <td>Renew</td>\n",
       "      <td>2019-11-20T21:24:37Z</td>\n",
       "      <td>2019-12-03T23:33:27Z</td>\n",
       "      <td>NaN</td>\n",
       "      <td>1</td>\n",
       "      <td>49</td>\n",
       "      <td>15.19</td>\n",
       "    </tr>\n",
       "    <tr>\n",
       "      <th>3</th>\n",
       "      <td>129362</td>\n",
       "      <td>869645.0</td>\n",
       "      <td>1004638</td>\n",
       "      <td>Paid</td>\n",
       "      <td>Active</td>\n",
       "      <td>1</td>\n",
       "      <td>6</td>\n",
       "      <td>0.44</td>\n",
       "      <td>1Y</td>\n",
       "      <td>Renew</td>\n",
       "      <td>2019-12-04T00:37:05Z</td>\n",
       "      <td>2019-12-15T13:13:30Z</td>\n",
       "      <td>NaN</td>\n",
       "      <td>12</td>\n",
       "      <td>72</td>\n",
       "      <td>40.32</td>\n",
       "    </tr>\n",
       "    <tr>\n",
       "      <th>4</th>\n",
       "      <td>47277</td>\n",
       "      <td>843127.0</td>\n",
       "      <td>1184209</td>\n",
       "      <td>Paid</td>\n",
       "      <td>Active</td>\n",
       "      <td>3</td>\n",
       "      <td>13</td>\n",
       "      <td>0.34</td>\n",
       "      <td>1Y</td>\n",
       "      <td>Renew</td>\n",
       "      <td>2019-11-06T21:24:30Z</td>\n",
       "      <td>2019-12-04T03:37:11Z</td>\n",
       "      <td>NaN</td>\n",
       "      <td>12</td>\n",
       "      <td>156</td>\n",
       "      <td>102.96</td>\n",
       "    </tr>\n",
       "  </tbody>\n",
       "</table>\n",
       "</div>"
      ],
      "text/plain": [
       "   client_id  invoice_id  invoice_item_id invoice_status service_status  \\\n",
       "0       9162    872143.0          1115707           Paid         Active   \n",
       "1     246708    875146.0           841327           Paid         Active   \n",
       "2      52476    856128.0          1197628           Paid         Active   \n",
       "3     129362    869645.0          1004638           Paid         Active   \n",
       "4      47277    843127.0          1184209           Paid         Active   \n",
       "\n",
       "   product_id  monthly_price_usd  discount service_period client_task  \\\n",
       "0           4                 18      0.42             1Y       Renew   \n",
       "1          11                 39      0.14             1M    Activate   \n",
       "2          12                 49      0.69             1M       Renew   \n",
       "3           1                  6      0.44             1Y       Renew   \n",
       "4           3                 13      0.34             1Y       Renew   \n",
       "\n",
       "     invoice_created_at       invoice_paid_at service_cancelled_at  \\\n",
       "0  2019-12-05T22:36:44Z  2019-12-25T12:30:11Z                  NaN   \n",
       "1  2019-12-09T04:20:49Z  2019-12-09T04:25:11Z                  NaN   \n",
       "2  2019-11-20T21:24:37Z  2019-12-03T23:33:27Z                  NaN   \n",
       "3  2019-12-04T00:37:05Z  2019-12-15T13:13:30Z                  NaN   \n",
       "4  2019-11-06T21:24:30Z  2019-12-04T03:37:11Z                  NaN   \n",
       "\n",
       "   monthly_period  total_price  discounted_price  \n",
       "0              12          216            125.28  \n",
       "1               1           39             33.54  \n",
       "2               1           49             15.19  \n",
       "3              12           72             40.32  \n",
       "4              12          156            102.96  "
      ]
     },
     "execution_count": 3,
     "metadata": {},
     "output_type": "execute_result"
    }
   ],
   "source": [
    "# Check the first 5 rows of the dataframe\n",
    "df.head()"
   ]
  },
  {
   "cell_type": "code",
   "execution_count": 4,
   "metadata": {},
   "outputs": [
    {
     "data": {
      "text/plain": [
       "(89545, 16)"
      ]
     },
     "execution_count": 4,
     "metadata": {},
     "output_type": "execute_result"
    }
   ],
   "source": [
    "# Check number of rows and columns of the dataframe\n",
    "df.shape "
   ]
  },
  {
   "cell_type": "code",
   "execution_count": 5,
   "metadata": {},
   "outputs": [
    {
     "name": "stdout",
     "output_type": "stream",
     "text": [
      "<class 'pandas.core.frame.DataFrame'>\n",
      "RangeIndex: 89545 entries, 0 to 89544\n",
      "Data columns (total 16 columns):\n",
      " #   Column                Non-Null Count  Dtype  \n",
      "---  ------                --------------  -----  \n",
      " 0   client_id             89545 non-null  int64  \n",
      " 1   invoice_id            89545 non-null  float64\n",
      " 2   invoice_item_id       89545 non-null  int64  \n",
      " 3   invoice_status        89545 non-null  object \n",
      " 4   service_status        89545 non-null  object \n",
      " 5   product_id            89545 non-null  int64  \n",
      " 6   monthly_price_usd     89545 non-null  int64  \n",
      " 7   discount              89545 non-null  float64\n",
      " 8   service_period        89545 non-null  object \n",
      " 9   client_task           89545 non-null  object \n",
      " 10  invoice_created_at    89545 non-null  object \n",
      " 11  invoice_paid_at       53755 non-null  object \n",
      " 12  service_cancelled_at  21756 non-null  object \n",
      " 13  monthly_period        89545 non-null  int64  \n",
      " 14  total_price           89545 non-null  int64  \n",
      " 15  discounted_price      89545 non-null  float64\n",
      "dtypes: float64(3), int64(6), object(7)\n",
      "memory usage: 10.9+ MB\n"
     ]
    }
   ],
   "source": [
    "df.info()"
   ]
  },
  {
   "cell_type": "code",
   "execution_count": 6,
   "metadata": {},
   "outputs": [
    {
     "data": {
      "text/html": [
       "<div>\n",
       "<style scoped>\n",
       "    .dataframe tbody tr th:only-of-type {\n",
       "        vertical-align: middle;\n",
       "    }\n",
       "\n",
       "    .dataframe tbody tr th {\n",
       "        vertical-align: top;\n",
       "    }\n",
       "\n",
       "    .dataframe thead th {\n",
       "        text-align: right;\n",
       "    }\n",
       "</style>\n",
       "<table border=\"1\" class=\"dataframe\">\n",
       "  <thead>\n",
       "    <tr style=\"text-align: right;\">\n",
       "      <th></th>\n",
       "      <th>client_id</th>\n",
       "      <th>invoice_id</th>\n",
       "      <th>invoice_item_id</th>\n",
       "      <th>product_id</th>\n",
       "      <th>monthly_price_usd</th>\n",
       "      <th>discount</th>\n",
       "      <th>monthly_period</th>\n",
       "      <th>total_price</th>\n",
       "      <th>discounted_price</th>\n",
       "    </tr>\n",
       "  </thead>\n",
       "  <tbody>\n",
       "    <tr>\n",
       "      <th>count</th>\n",
       "      <td>89545.000000</td>\n",
       "      <td>89545.000000</td>\n",
       "      <td>8.954500e+04</td>\n",
       "      <td>89545.000000</td>\n",
       "      <td>89545.000000</td>\n",
       "      <td>89545.000000</td>\n",
       "      <td>89545.000000</td>\n",
       "      <td>89545.000000</td>\n",
       "      <td>89545.000000</td>\n",
       "    </tr>\n",
       "    <tr>\n",
       "      <th>mean</th>\n",
       "      <td>151297.438684</td>\n",
       "      <td>737033.606176</td>\n",
       "      <td>1.022266e+06</td>\n",
       "      <td>3.727310</td>\n",
       "      <td>15.793512</td>\n",
       "      <td>0.424860</td>\n",
       "      <td>14.413624</td>\n",
       "      <td>201.450444</td>\n",
       "      <td>97.297541</td>\n",
       "    </tr>\n",
       "    <tr>\n",
       "      <th>std</th>\n",
       "      <td>67872.812261</td>\n",
       "      <td>85770.813728</td>\n",
       "      <td>1.130957e+05</td>\n",
       "      <td>2.722953</td>\n",
       "      <td>13.015129</td>\n",
       "      <td>1.753377</td>\n",
       "      <td>9.569462</td>\n",
       "      <td>207.633054</td>\n",
       "      <td>311.110162</td>\n",
       "    </tr>\n",
       "    <tr>\n",
       "      <th>min</th>\n",
       "      <td>22.000000</td>\n",
       "      <td>583739.000000</td>\n",
       "      <td>8.246620e+05</td>\n",
       "      <td>1.000000</td>\n",
       "      <td>6.000000</td>\n",
       "      <td>0.000000</td>\n",
       "      <td>1.000000</td>\n",
       "      <td>17.000000</td>\n",
       "      <td>-80049.840000</td>\n",
       "    </tr>\n",
       "    <tr>\n",
       "      <th>25%</th>\n",
       "      <td>101490.000000</td>\n",
       "      <td>661872.000000</td>\n",
       "      <td>9.251270e+05</td>\n",
       "      <td>2.000000</td>\n",
       "      <td>9.000000</td>\n",
       "      <td>0.310000</td>\n",
       "      <td>12.000000</td>\n",
       "      <td>108.000000</td>\n",
       "      <td>74.000000</td>\n",
       "    </tr>\n",
       "    <tr>\n",
       "      <th>50%</th>\n",
       "      <td>155571.000000</td>\n",
       "      <td>737965.000000</td>\n",
       "      <td>1.018091e+06</td>\n",
       "      <td>3.000000</td>\n",
       "      <td>13.000000</td>\n",
       "      <td>0.420000</td>\n",
       "      <td>12.000000</td>\n",
       "      <td>156.000000</td>\n",
       "      <td>78.000000</td>\n",
       "    </tr>\n",
       "    <tr>\n",
       "      <th>75%</th>\n",
       "      <td>208243.000000</td>\n",
       "      <td>810130.000000</td>\n",
       "      <td>1.113774e+06</td>\n",
       "      <td>4.000000</td>\n",
       "      <td>17.000000</td>\n",
       "      <td>0.500000</td>\n",
       "      <td>12.000000</td>\n",
       "      <td>216.000000</td>\n",
       "      <td>117.000000</td>\n",
       "    </tr>\n",
       "    <tr>\n",
       "      <th>max</th>\n",
       "      <td>260103.000000</td>\n",
       "      <td>882312.000000</td>\n",
       "      <td>1.234070e+06</td>\n",
       "      <td>14.000000</td>\n",
       "      <td>124.000000</td>\n",
       "      <td>514.140000</td>\n",
       "      <td>36.000000</td>\n",
       "      <td>4464.000000</td>\n",
       "      <td>4464.000000</td>\n",
       "    </tr>\n",
       "  </tbody>\n",
       "</table>\n",
       "</div>"
      ],
      "text/plain": [
       "           client_id     invoice_id  invoice_item_id    product_id  \\\n",
       "count   89545.000000   89545.000000     8.954500e+04  89545.000000   \n",
       "mean   151297.438684  737033.606176     1.022266e+06      3.727310   \n",
       "std     67872.812261   85770.813728     1.130957e+05      2.722953   \n",
       "min        22.000000  583739.000000     8.246620e+05      1.000000   \n",
       "25%    101490.000000  661872.000000     9.251270e+05      2.000000   \n",
       "50%    155571.000000  737965.000000     1.018091e+06      3.000000   \n",
       "75%    208243.000000  810130.000000     1.113774e+06      4.000000   \n",
       "max    260103.000000  882312.000000     1.234070e+06     14.000000   \n",
       "\n",
       "       monthly_price_usd      discount  monthly_period   total_price  \\\n",
       "count       89545.000000  89545.000000    89545.000000  89545.000000   \n",
       "mean           15.793512      0.424860       14.413624    201.450444   \n",
       "std            13.015129      1.753377        9.569462    207.633054   \n",
       "min             6.000000      0.000000        1.000000     17.000000   \n",
       "25%             9.000000      0.310000       12.000000    108.000000   \n",
       "50%            13.000000      0.420000       12.000000    156.000000   \n",
       "75%            17.000000      0.500000       12.000000    216.000000   \n",
       "max           124.000000    514.140000       36.000000   4464.000000   \n",
       "\n",
       "       discounted_price  \n",
       "count      89545.000000  \n",
       "mean          97.297541  \n",
       "std          311.110162  \n",
       "min       -80049.840000  \n",
       "25%           74.000000  \n",
       "50%           78.000000  \n",
       "75%          117.000000  \n",
       "max         4464.000000  "
      ]
     },
     "execution_count": 6,
     "metadata": {},
     "output_type": "execute_result"
    }
   ],
   "source": [
    "# Check out the summary statistics for numerical columns\n",
    "df.describe()"
   ]
  },
  {
   "cell_type": "markdown",
   "metadata": {},
   "source": [
    "### a. Data Cleansing"
   ]
  },
  {
   "cell_type": "markdown",
   "metadata": {},
   "source": [
    "The goal of this part is to identify and remove duplicate data. \n",
    "Firstly, we need to check  invoce_id that occur more than one time. The invoce_id has to be unique value, so if they occur more than one time in our dataframe, it can be an indication of duplication."
   ]
  },
  {
   "cell_type": "code",
   "execution_count": 7,
   "metadata": {},
   "outputs": [
    {
     "name": "stdout",
     "output_type": "stream",
     "text": [
      "invoice_id\n",
      "584275.0    2\n",
      "584632.0    2\n",
      "584664.0    4\n",
      "585345.0    2\n",
      "585401.0    2\n",
      "           ..\n",
      "882277.0    3\n",
      "882283.0    2\n",
      "882291.0    2\n",
      "882298.0    2\n",
      "882300.0    2\n",
      "Length: 3373, dtype: int64\n"
     ]
    }
   ],
   "source": [
    "dups_row = df.pivot_table(index=['invoice_id'], aggfunc='size')\n",
    "print (dups_row[dups_row>1])"
   ]
  },
  {
   "cell_type": "code",
   "execution_count": 8,
   "metadata": {},
   "outputs": [
    {
     "data": {
      "text/html": [
       "<div>\n",
       "<style scoped>\n",
       "    .dataframe tbody tr th:only-of-type {\n",
       "        vertical-align: middle;\n",
       "    }\n",
       "\n",
       "    .dataframe tbody tr th {\n",
       "        vertical-align: top;\n",
       "    }\n",
       "\n",
       "    .dataframe thead th {\n",
       "        text-align: right;\n",
       "    }\n",
       "</style>\n",
       "<table border=\"1\" class=\"dataframe\">\n",
       "  <thead>\n",
       "    <tr style=\"text-align: right;\">\n",
       "      <th></th>\n",
       "      <th>client_id</th>\n",
       "      <th>invoice_id</th>\n",
       "      <th>invoice_item_id</th>\n",
       "      <th>invoice_status</th>\n",
       "      <th>service_status</th>\n",
       "      <th>product_id</th>\n",
       "      <th>monthly_price_usd</th>\n",
       "      <th>discount</th>\n",
       "      <th>service_period</th>\n",
       "      <th>client_task</th>\n",
       "      <th>invoice_created_at</th>\n",
       "      <th>invoice_paid_at</th>\n",
       "      <th>service_cancelled_at</th>\n",
       "      <th>monthly_period</th>\n",
       "      <th>total_price</th>\n",
       "      <th>discounted_price</th>\n",
       "    </tr>\n",
       "  </thead>\n",
       "  <tbody>\n",
       "    <tr>\n",
       "      <th>52518</th>\n",
       "      <td>179749</td>\n",
       "      <td>584664.0</td>\n",
       "      <td>825892</td>\n",
       "      <td>Unpaid</td>\n",
       "      <td>Pending Setup</td>\n",
       "      <td>3</td>\n",
       "      <td>13</td>\n",
       "      <td>0.75</td>\n",
       "      <td>3Y</td>\n",
       "      <td>Activate</td>\n",
       "      <td>2018-12-21T16:02:21Z</td>\n",
       "      <td>NaN</td>\n",
       "      <td>NaN</td>\n",
       "      <td>36</td>\n",
       "      <td>468</td>\n",
       "      <td>117.0</td>\n",
       "    </tr>\n",
       "    <tr>\n",
       "      <th>52519</th>\n",
       "      <td>179749</td>\n",
       "      <td>584664.0</td>\n",
       "      <td>825894</td>\n",
       "      <td>Unpaid</td>\n",
       "      <td>Pending Setup</td>\n",
       "      <td>3</td>\n",
       "      <td>13</td>\n",
       "      <td>0.75</td>\n",
       "      <td>3Y</td>\n",
       "      <td>Activate</td>\n",
       "      <td>2018-12-21T16:02:21Z</td>\n",
       "      <td>NaN</td>\n",
       "      <td>NaN</td>\n",
       "      <td>36</td>\n",
       "      <td>468</td>\n",
       "      <td>117.0</td>\n",
       "    </tr>\n",
       "    <tr>\n",
       "      <th>52520</th>\n",
       "      <td>179749</td>\n",
       "      <td>584664.0</td>\n",
       "      <td>825895</td>\n",
       "      <td>Unpaid</td>\n",
       "      <td>Pending Setup</td>\n",
       "      <td>3</td>\n",
       "      <td>13</td>\n",
       "      <td>0.75</td>\n",
       "      <td>3Y</td>\n",
       "      <td>Activate</td>\n",
       "      <td>2018-12-21T16:02:21Z</td>\n",
       "      <td>NaN</td>\n",
       "      <td>NaN</td>\n",
       "      <td>36</td>\n",
       "      <td>468</td>\n",
       "      <td>117.0</td>\n",
       "    </tr>\n",
       "    <tr>\n",
       "      <th>52521</th>\n",
       "      <td>179749</td>\n",
       "      <td>584664.0</td>\n",
       "      <td>825899</td>\n",
       "      <td>Unpaid</td>\n",
       "      <td>Pending Setup</td>\n",
       "      <td>3</td>\n",
       "      <td>13</td>\n",
       "      <td>0.75</td>\n",
       "      <td>3Y</td>\n",
       "      <td>Activate</td>\n",
       "      <td>2018-12-21T16:02:21Z</td>\n",
       "      <td>NaN</td>\n",
       "      <td>NaN</td>\n",
       "      <td>36</td>\n",
       "      <td>468</td>\n",
       "      <td>117.0</td>\n",
       "    </tr>\n",
       "  </tbody>\n",
       "</table>\n",
       "</div>"
      ],
      "text/plain": [
       "       client_id  invoice_id  invoice_item_id invoice_status service_status  \\\n",
       "52518     179749    584664.0           825892         Unpaid  Pending Setup   \n",
       "52519     179749    584664.0           825894         Unpaid  Pending Setup   \n",
       "52520     179749    584664.0           825895         Unpaid  Pending Setup   \n",
       "52521     179749    584664.0           825899         Unpaid  Pending Setup   \n",
       "\n",
       "       product_id  monthly_price_usd  discount service_period client_task  \\\n",
       "52518           3                 13      0.75             3Y    Activate   \n",
       "52519           3                 13      0.75             3Y    Activate   \n",
       "52520           3                 13      0.75             3Y    Activate   \n",
       "52521           3                 13      0.75             3Y    Activate   \n",
       "\n",
       "         invoice_created_at invoice_paid_at service_cancelled_at  \\\n",
       "52518  2018-12-21T16:02:21Z             NaN                  NaN   \n",
       "52519  2018-12-21T16:02:21Z             NaN                  NaN   \n",
       "52520  2018-12-21T16:02:21Z             NaN                  NaN   \n",
       "52521  2018-12-21T16:02:21Z             NaN                  NaN   \n",
       "\n",
       "       monthly_period  total_price  discounted_price  \n",
       "52518              36          468             117.0  \n",
       "52519              36          468             117.0  \n",
       "52520              36          468             117.0  \n",
       "52521              36          468             117.0  "
      ]
     },
     "execution_count": 8,
     "metadata": {},
     "output_type": "execute_result"
    }
   ],
   "source": [
    "df[(df['invoice_id']== 584664)]"
   ]
  },
  {
   "cell_type": "markdown",
   "metadata": {},
   "source": [
    "From the result of the query above, there are 3373 invoice_id that have duplication in the dataset. By randomly taking one of those invoice_id, for example invoice_id = 584664, we can see that although the invoice_item_id are different however all values in other variable are the same. This clarifies our assumption of duplication. \n",
    "In the next step, all the duplication will be removed."
   ]
  },
  {
   "cell_type": "code",
   "execution_count": 9,
   "metadata": {},
   "outputs": [],
   "source": [
    "data = df.drop_duplicates(subset=['invoice_id'])"
   ]
  },
  {
   "cell_type": "code",
   "execution_count": 10,
   "metadata": {},
   "outputs": [
    {
     "data": {
      "text/html": [
       "<div>\n",
       "<style scoped>\n",
       "    .dataframe tbody tr th:only-of-type {\n",
       "        vertical-align: middle;\n",
       "    }\n",
       "\n",
       "    .dataframe tbody tr th {\n",
       "        vertical-align: top;\n",
       "    }\n",
       "\n",
       "    .dataframe thead th {\n",
       "        text-align: right;\n",
       "    }\n",
       "</style>\n",
       "<table border=\"1\" class=\"dataframe\">\n",
       "  <thead>\n",
       "    <tr style=\"text-align: right;\">\n",
       "      <th></th>\n",
       "      <th>client_id</th>\n",
       "      <th>invoice_id</th>\n",
       "      <th>invoice_item_id</th>\n",
       "      <th>invoice_status</th>\n",
       "      <th>service_status</th>\n",
       "      <th>product_id</th>\n",
       "      <th>monthly_price_usd</th>\n",
       "      <th>discount</th>\n",
       "      <th>service_period</th>\n",
       "      <th>client_task</th>\n",
       "      <th>invoice_created_at</th>\n",
       "      <th>invoice_paid_at</th>\n",
       "      <th>service_cancelled_at</th>\n",
       "      <th>monthly_period</th>\n",
       "      <th>total_price</th>\n",
       "      <th>discounted_price</th>\n",
       "    </tr>\n",
       "  </thead>\n",
       "  <tbody>\n",
       "    <tr>\n",
       "      <th>52518</th>\n",
       "      <td>179749</td>\n",
       "      <td>584664.0</td>\n",
       "      <td>825892</td>\n",
       "      <td>Unpaid</td>\n",
       "      <td>Pending Setup</td>\n",
       "      <td>3</td>\n",
       "      <td>13</td>\n",
       "      <td>0.75</td>\n",
       "      <td>3Y</td>\n",
       "      <td>Activate</td>\n",
       "      <td>2018-12-21T16:02:21Z</td>\n",
       "      <td>NaN</td>\n",
       "      <td>NaN</td>\n",
       "      <td>36</td>\n",
       "      <td>468</td>\n",
       "      <td>117.0</td>\n",
       "    </tr>\n",
       "  </tbody>\n",
       "</table>\n",
       "</div>"
      ],
      "text/plain": [
       "       client_id  invoice_id  invoice_item_id invoice_status service_status  \\\n",
       "52518     179749    584664.0           825892         Unpaid  Pending Setup   \n",
       "\n",
       "       product_id  monthly_price_usd  discount service_period client_task  \\\n",
       "52518           3                 13      0.75             3Y    Activate   \n",
       "\n",
       "         invoice_created_at invoice_paid_at service_cancelled_at  \\\n",
       "52518  2018-12-21T16:02:21Z             NaN                  NaN   \n",
       "\n",
       "       monthly_period  total_price  discounted_price  \n",
       "52518              36          468             117.0  "
      ]
     },
     "execution_count": 10,
     "metadata": {},
     "output_type": "execute_result"
    }
   ],
   "source": [
    "data[(data['invoice_id']== 584664)]"
   ]
  },
  {
   "cell_type": "code",
   "execution_count": 11,
   "metadata": {},
   "outputs": [
    {
     "data": {
      "text/plain": [
       "(85681, 16)"
      ]
     },
     "execution_count": 11,
     "metadata": {},
     "output_type": "execute_result"
    }
   ],
   "source": [
    "data.shape"
   ]
  },
  {
   "cell_type": "markdown",
   "metadata": {},
   "source": [
    "3864 duplicated rows have been deleted from the dataset, so now the datasets has 85681 records with 16 attributes."
   ]
  },
  {
   "cell_type": "markdown",
   "metadata": {},
   "source": [
    "### b. Total Revenue"
   ]
  },
  {
   "cell_type": "markdown",
   "metadata": {},
   "source": [
    "In this part total number of sales along with the total revenue shared from each product will be calculated. Beforehand, the data will be filtered, so all records with invoice_status other than 'Paid' will be excluded. "
   ]
  },
  {
   "cell_type": "code",
   "execution_count": 12,
   "metadata": {},
   "outputs": [
    {
     "data": {
      "text/plain": [
       "(49957, 16)"
      ]
     },
     "execution_count": 12,
     "metadata": {},
     "output_type": "execute_result"
    }
   ],
   "source": [
    "# filtering the data and checking the new shape\n",
    "paid_data = data[(data['invoice_status']=='Paid')]\n",
    "paid_data.shape"
   ]
  },
  {
   "cell_type": "code",
   "execution_count": 13,
   "metadata": {},
   "outputs": [
    {
     "data": {
      "text/plain": [
       "4680053.62"
      ]
     },
     "execution_count": 13,
     "metadata": {},
     "output_type": "execute_result"
    }
   ],
   "source": [
    "#calculating total revenue from the paid invoice\n",
    "paid_data.discounted_price.sum()"
   ]
  },
  {
   "cell_type": "code",
   "execution_count": 14,
   "metadata": {},
   "outputs": [
    {
     "data": {
      "text/html": [
       "<div>\n",
       "<style scoped>\n",
       "    .dataframe tbody tr th:only-of-type {\n",
       "        vertical-align: middle;\n",
       "    }\n",
       "\n",
       "    .dataframe tbody tr th {\n",
       "        vertical-align: top;\n",
       "    }\n",
       "\n",
       "    .dataframe thead th {\n",
       "        text-align: right;\n",
       "    }\n",
       "</style>\n",
       "<table border=\"1\" class=\"dataframe\">\n",
       "  <thead>\n",
       "    <tr style=\"text-align: right;\">\n",
       "      <th></th>\n",
       "      <th>count</th>\n",
       "      <th>sum</th>\n",
       "    </tr>\n",
       "    <tr>\n",
       "      <th>product_id</th>\n",
       "      <th></th>\n",
       "      <th></th>\n",
       "    </tr>\n",
       "  </thead>\n",
       "  <tbody>\n",
       "    <tr>\n",
       "      <th>3</th>\n",
       "      <td>21884</td>\n",
       "      <td>1982596.20</td>\n",
       "    </tr>\n",
       "    <tr>\n",
       "      <th>4</th>\n",
       "      <td>6225</td>\n",
       "      <td>857300.76</td>\n",
       "    </tr>\n",
       "    <tr>\n",
       "      <th>2</th>\n",
       "      <td>9298</td>\n",
       "      <td>676050.84</td>\n",
       "    </tr>\n",
       "    <tr>\n",
       "      <th>1</th>\n",
       "      <td>3641</td>\n",
       "      <td>188992.08</td>\n",
       "    </tr>\n",
       "    <tr>\n",
       "      <th>11</th>\n",
       "      <td>1588</td>\n",
       "      <td>187125.51</td>\n",
       "    </tr>\n",
       "    <tr>\n",
       "      <th>7</th>\n",
       "      <td>481</td>\n",
       "      <td>143920.00</td>\n",
       "    </tr>\n",
       "    <tr>\n",
       "      <th>12</th>\n",
       "      <td>1010</td>\n",
       "      <td>142894.78</td>\n",
       "    </tr>\n",
       "    <tr>\n",
       "      <th>14</th>\n",
       "      <td>560</td>\n",
       "      <td>141798.06</td>\n",
       "    </tr>\n",
       "    <tr>\n",
       "      <th>10</th>\n",
       "      <td>1302</td>\n",
       "      <td>94813.88</td>\n",
       "    </tr>\n",
       "    <tr>\n",
       "      <th>9</th>\n",
       "      <td>2580</td>\n",
       "      <td>92866.75</td>\n",
       "    </tr>\n",
       "    <tr>\n",
       "      <th>5</th>\n",
       "      <td>744</td>\n",
       "      <td>67676.64</td>\n",
       "    </tr>\n",
       "    <tr>\n",
       "      <th>13</th>\n",
       "      <td>286</td>\n",
       "      <td>54249.40</td>\n",
       "    </tr>\n",
       "    <tr>\n",
       "      <th>6</th>\n",
       "      <td>287</td>\n",
       "      <td>33974.84</td>\n",
       "    </tr>\n",
       "    <tr>\n",
       "      <th>8</th>\n",
       "      <td>71</td>\n",
       "      <td>15793.88</td>\n",
       "    </tr>\n",
       "  </tbody>\n",
       "</table>\n",
       "</div>"
      ],
      "text/plain": [
       "            count         sum\n",
       "product_id                   \n",
       "3           21884  1982596.20\n",
       "4            6225   857300.76\n",
       "2            9298   676050.84\n",
       "1            3641   188992.08\n",
       "11           1588   187125.51\n",
       "7             481   143920.00\n",
       "12           1010   142894.78\n",
       "14            560   141798.06\n",
       "10           1302    94813.88\n",
       "9            2580    92866.75\n",
       "5             744    67676.64\n",
       "13            286    54249.40\n",
       "6             287    33974.84\n",
       "8              71    15793.88"
      ]
     },
     "execution_count": 14,
     "metadata": {},
     "output_type": "execute_result"
    }
   ],
   "source": [
    "revenue_byProduct = paid_data[['product_id' , 'discounted_price']].groupby(['product_id']).agg(['count', 'sum'])\n",
    "revenue_byProduct.discounted_price.sort_values(by='sum', ascending=False)"
   ]
  },
  {
   "cell_type": "markdown",
   "metadata": {},
   "source": [
    "From the calculation we get total revenue of the company over the given period is 4,680,053.62 US dollar. The distribution of the revenue from each product is shown in table above. From the table we can see that product 3 gives a biggest contribution to the company revenue. It contributes for about 42% of the total revenue followed by product 4 and product 2. While product with the least contribution to the company sales is product 8. "
   ]
  },
  {
   "cell_type": "markdown",
   "metadata": {},
   "source": [
    "### c.  Loyal Customer"
   ]
  },
  {
   "cell_type": "markdown",
   "metadata": {},
   "source": [
    "In this part, we will try to identify 100 loyal customers that will be eligible for free vouchers. \n",
    "\n",
    "Basicly, customer loyalty is the likelihood that customers continue purchasing from a specific company. Based on that definition, from this particular dataset the loyal costumers are those who keep renew their services. "
   ]
  },
  {
   "cell_type": "code",
   "execution_count": 15,
   "metadata": {},
   "outputs": [
    {
     "data": {
      "text/html": [
       "<div>\n",
       "<style scoped>\n",
       "    .dataframe tbody tr th:only-of-type {\n",
       "        vertical-align: middle;\n",
       "    }\n",
       "\n",
       "    .dataframe tbody tr th {\n",
       "        vertical-align: top;\n",
       "    }\n",
       "\n",
       "    .dataframe thead th {\n",
       "        text-align: right;\n",
       "    }\n",
       "</style>\n",
       "<table border=\"1\" class=\"dataframe\">\n",
       "  <thead>\n",
       "    <tr style=\"text-align: right;\">\n",
       "      <th>client_task</th>\n",
       "      <th>client_id</th>\n",
       "      <th>Activate</th>\n",
       "      <th>Renew</th>\n",
       "    </tr>\n",
       "  </thead>\n",
       "  <tbody>\n",
       "    <tr>\n",
       "      <th>620</th>\n",
       "      <td>16146</td>\n",
       "      <td>39.0</td>\n",
       "      <td>62.0</td>\n",
       "    </tr>\n",
       "    <tr>\n",
       "      <th>11955</th>\n",
       "      <td>131891</td>\n",
       "      <td>3.0</td>\n",
       "      <td>61.0</td>\n",
       "    </tr>\n",
       "    <tr>\n",
       "      <th>4648</th>\n",
       "      <td>71117</td>\n",
       "      <td>NaN</td>\n",
       "      <td>60.0</td>\n",
       "    </tr>\n",
       "    <tr>\n",
       "      <th>13744</th>\n",
       "      <td>143719</td>\n",
       "      <td>9.0</td>\n",
       "      <td>33.0</td>\n",
       "    </tr>\n",
       "    <tr>\n",
       "      <th>13258</th>\n",
       "      <td>140177</td>\n",
       "      <td>1.0</td>\n",
       "      <td>33.0</td>\n",
       "    </tr>\n",
       "    <tr>\n",
       "      <th>...</th>\n",
       "      <td>...</td>\n",
       "      <td>...</td>\n",
       "      <td>...</td>\n",
       "    </tr>\n",
       "    <tr>\n",
       "      <th>3204</th>\n",
       "      <td>56079</td>\n",
       "      <td>NaN</td>\n",
       "      <td>12.0</td>\n",
       "    </tr>\n",
       "    <tr>\n",
       "      <th>6718</th>\n",
       "      <td>90613</td>\n",
       "      <td>NaN</td>\n",
       "      <td>12.0</td>\n",
       "    </tr>\n",
       "    <tr>\n",
       "      <th>11151</th>\n",
       "      <td>126207</td>\n",
       "      <td>NaN</td>\n",
       "      <td>12.0</td>\n",
       "    </tr>\n",
       "    <tr>\n",
       "      <th>12184</th>\n",
       "      <td>133287</td>\n",
       "      <td>NaN</td>\n",
       "      <td>12.0</td>\n",
       "    </tr>\n",
       "    <tr>\n",
       "      <th>18248</th>\n",
       "      <td>183760</td>\n",
       "      <td>1.0</td>\n",
       "      <td>12.0</td>\n",
       "    </tr>\n",
       "  </tbody>\n",
       "</table>\n",
       "<p>100 rows × 3 columns</p>\n",
       "</div>"
      ],
      "text/plain": [
       "client_task  client_id  Activate  Renew\n",
       "620              16146      39.0   62.0\n",
       "11955           131891       3.0   61.0\n",
       "4648             71117       NaN   60.0\n",
       "13744           143719       9.0   33.0\n",
       "13258           140177       1.0   33.0\n",
       "...                ...       ...    ...\n",
       "3204             56079       NaN   12.0\n",
       "6718             90613       NaN   12.0\n",
       "11151           126207       NaN   12.0\n",
       "12184           133287       NaN   12.0\n",
       "18248           183760       1.0   12.0\n",
       "\n",
       "[100 rows x 3 columns]"
      ]
     },
     "execution_count": 15,
     "metadata": {},
     "output_type": "execute_result"
    }
   ],
   "source": [
    "loyal_client = pd.pivot_table(paid_data, values='discounted_price', index=['client_id'],\n",
    "                    columns=['client_task'], aggfunc= len)\n",
    "loyal_client = loyal_client.reset_index()\n",
    "loyal_client.sort_values(by='Renew',ascending=False).head(100)"
   ]
  },
  {
   "cell_type": "markdown",
   "metadata": {},
   "source": [
    "The table above contains the list of 100 most loyal customers. Those customers are selected based on the number of 'Renew' transaction that they made during the time period. "
   ]
  },
  {
   "cell_type": "markdown",
   "metadata": {},
   "source": [
    "### d. Average Payment Duration"
   ]
  },
  {
   "cell_type": "markdown",
   "metadata": {},
   "source": [
    "In this part, the average time duration for clients to complete their payments will be calculated.\n",
    "Firstly, we will check the distribution of all those time durations and then choose a correct central-tendency measure.\n"
   ]
  },
  {
   "cell_type": "code",
   "execution_count": 16,
   "metadata": {},
   "outputs": [],
   "source": [
    "#converting the type of invoice_created_at and nvoice_paid_at column from object to datetime64\n",
    "paid_data[\"invoice_created_at\"] = pd.to_datetime( paid_data[\"invoice_created_at\"]).dt.tz_convert(None)\n",
    "paid_data[\"invoice_paid_at\"] = pd.to_datetime( paid_data[\"invoice_paid_at\"]).dt.tz_convert(None)"
   ]
  },
  {
   "cell_type": "code",
   "execution_count": 17,
   "metadata": {},
   "outputs": [],
   "source": [
    "#creating new column to calculate duration to complete payments (in days)\n",
    "paid_data['pay_duration'] = (paid_data[\"invoice_paid_at\"] - paid_data[\"invoice_created_at\"]).dt.days"
   ]
  },
  {
   "cell_type": "code",
   "execution_count": 18,
   "metadata": {},
   "outputs": [
    {
     "data": {
      "text/plain": [
       "count    49956.000000\n",
       "mean         5.143326\n",
       "std         11.616326\n",
       "min        -17.000000\n",
       "25%          0.000000\n",
       "50%          0.000000\n",
       "75%          9.000000\n",
       "max        343.000000\n",
       "Name: pay_duration, dtype: float64"
      ]
     },
     "execution_count": 18,
     "metadata": {},
     "output_type": "execute_result"
    }
   ],
   "source": [
    "paid_data.pay_duration.describe()"
   ]
  },
  {
   "cell_type": "code",
   "execution_count": 19,
   "metadata": {},
   "outputs": [
    {
     "data": {
      "text/html": [
       "<div>\n",
       "<style scoped>\n",
       "    .dataframe tbody tr th:only-of-type {\n",
       "        vertical-align: middle;\n",
       "    }\n",
       "\n",
       "    .dataframe tbody tr th {\n",
       "        vertical-align: top;\n",
       "    }\n",
       "\n",
       "    .dataframe thead th {\n",
       "        text-align: right;\n",
       "    }\n",
       "</style>\n",
       "<table border=\"1\" class=\"dataframe\">\n",
       "  <thead>\n",
       "    <tr style=\"text-align: right;\">\n",
       "      <th></th>\n",
       "      <th>client_id</th>\n",
       "      <th>invoice_id</th>\n",
       "      <th>invoice_item_id</th>\n",
       "      <th>invoice_status</th>\n",
       "      <th>service_status</th>\n",
       "      <th>product_id</th>\n",
       "      <th>monthly_price_usd</th>\n",
       "      <th>discount</th>\n",
       "      <th>service_period</th>\n",
       "      <th>client_task</th>\n",
       "      <th>invoice_created_at</th>\n",
       "      <th>invoice_paid_at</th>\n",
       "      <th>service_cancelled_at</th>\n",
       "      <th>monthly_period</th>\n",
       "      <th>total_price</th>\n",
       "      <th>discounted_price</th>\n",
       "      <th>pay_duration</th>\n",
       "    </tr>\n",
       "  </thead>\n",
       "  <tbody>\n",
       "    <tr>\n",
       "      <th>7611</th>\n",
       "      <td>190517</td>\n",
       "      <td>625329.0</td>\n",
       "      <td>880392</td>\n",
       "      <td>Paid</td>\n",
       "      <td>Active</td>\n",
       "      <td>7</td>\n",
       "      <td>64</td>\n",
       "      <td>0.5</td>\n",
       "      <td>1Y</td>\n",
       "      <td>Activate</td>\n",
       "      <td>2019-02-26 17:00:00</td>\n",
       "      <td>2019-02-09 17:00:00</td>\n",
       "      <td>NaN</td>\n",
       "      <td>12</td>\n",
       "      <td>768</td>\n",
       "      <td>384.0</td>\n",
       "      <td>-17.0</td>\n",
       "    </tr>\n",
       "  </tbody>\n",
       "</table>\n",
       "</div>"
      ],
      "text/plain": [
       "      client_id  invoice_id  invoice_item_id invoice_status service_status  \\\n",
       "7611     190517    625329.0           880392           Paid         Active   \n",
       "\n",
       "      product_id  monthly_price_usd  discount service_period client_task  \\\n",
       "7611           7                 64       0.5             1Y    Activate   \n",
       "\n",
       "      invoice_created_at     invoice_paid_at service_cancelled_at  \\\n",
       "7611 2019-02-26 17:00:00 2019-02-09 17:00:00                  NaN   \n",
       "\n",
       "      monthly_period  total_price  discounted_price  pay_duration  \n",
       "7611              12          768             384.0         -17.0  "
      ]
     },
     "execution_count": 19,
     "metadata": {},
     "output_type": "execute_result"
    }
   ],
   "source": [
    "minus_pay_dur = paid_data[(paid_data['pay_duration']<0)]\n",
    "minus_pay_dur"
   ]
  },
  {
   "cell_type": "markdown",
   "metadata": {},
   "source": [
    "From the result of above calculation we can see that the average time needed for the customers to complete their payment is 5 days, with the maximum time 343 days. There is one transaction that has negative value of paymeny duration, which mean this transaction has been paid before the invoice was created. this particular data set can be treated as an outlier, because it is unlikely to be happend. Next we will check does this average value of 5 really represent the distribution payment duration. \n"
   ]
  },
  {
   "cell_type": "code",
   "execution_count": 20,
   "metadata": {},
   "outputs": [
    {
     "data": {
      "text/html": [
       "<div>\n",
       "<style scoped>\n",
       "    .dataframe tbody tr th:only-of-type {\n",
       "        vertical-align: middle;\n",
       "    }\n",
       "\n",
       "    .dataframe tbody tr th {\n",
       "        vertical-align: top;\n",
       "    }\n",
       "\n",
       "    .dataframe thead th {\n",
       "        text-align: right;\n",
       "    }\n",
       "</style>\n",
       "<table border=\"1\" class=\"dataframe\">\n",
       "  <thead>\n",
       "    <tr style=\"text-align: right;\">\n",
       "      <th></th>\n",
       "      <th>pay_duration</th>\n",
       "      <th>Total_Transaction</th>\n",
       "    </tr>\n",
       "  </thead>\n",
       "  <tbody>\n",
       "    <tr>\n",
       "      <th>0</th>\n",
       "      <td>-17.0</td>\n",
       "      <td>1</td>\n",
       "    </tr>\n",
       "    <tr>\n",
       "      <th>1</th>\n",
       "      <td>0.0</td>\n",
       "      <td>28274</td>\n",
       "    </tr>\n",
       "    <tr>\n",
       "      <th>2</th>\n",
       "      <td>1.0</td>\n",
       "      <td>2395</td>\n",
       "    </tr>\n",
       "    <tr>\n",
       "      <th>3</th>\n",
       "      <td>2.0</td>\n",
       "      <td>1640</td>\n",
       "    </tr>\n",
       "    <tr>\n",
       "      <th>4</th>\n",
       "      <td>3.0</td>\n",
       "      <td>1156</td>\n",
       "    </tr>\n",
       "    <tr>\n",
       "      <th>...</th>\n",
       "      <td>...</td>\n",
       "      <td>...</td>\n",
       "    </tr>\n",
       "    <tr>\n",
       "      <th>170</th>\n",
       "      <td>310.0</td>\n",
       "      <td>1</td>\n",
       "    </tr>\n",
       "    <tr>\n",
       "      <th>171</th>\n",
       "      <td>319.0</td>\n",
       "      <td>1</td>\n",
       "    </tr>\n",
       "    <tr>\n",
       "      <th>172</th>\n",
       "      <td>339.0</td>\n",
       "      <td>1</td>\n",
       "    </tr>\n",
       "    <tr>\n",
       "      <th>173</th>\n",
       "      <td>342.0</td>\n",
       "      <td>1</td>\n",
       "    </tr>\n",
       "    <tr>\n",
       "      <th>174</th>\n",
       "      <td>343.0</td>\n",
       "      <td>1</td>\n",
       "    </tr>\n",
       "  </tbody>\n",
       "</table>\n",
       "<p>175 rows × 2 columns</p>\n",
       "</div>"
      ],
      "text/plain": [
       "     pay_duration  Total_Transaction\n",
       "0           -17.0                  1\n",
       "1             0.0              28274\n",
       "2             1.0               2395\n",
       "3             2.0               1640\n",
       "4             3.0               1156\n",
       "..            ...                ...\n",
       "170         310.0                  1\n",
       "171         319.0                  1\n",
       "172         339.0                  1\n",
       "173         342.0                  1\n",
       "174         343.0                  1\n",
       "\n",
       "[175 rows x 2 columns]"
      ]
     },
     "execution_count": 20,
     "metadata": {},
     "output_type": "execute_result"
    }
   ],
   "source": [
    "# checking the distribution of payment duration\n",
    "payment_duration= paid_data[['pay_duration','invoice_id']].groupby(['pay_duration']).count().reset_index()\n",
    "payment_duration.rename(columns={'invoice_id': 'Total_Transaction'}, inplace=True)\n",
    "payment_duration.sort_values(by='pay_duration') "
   ]
  },
  {
   "cell_type": "code",
   "execution_count": 21,
   "metadata": {},
   "outputs": [
    {
     "data": {
      "text/plain": [
       "36594"
      ]
     },
     "execution_count": 21,
     "metadata": {},
     "output_type": "execute_result"
    }
   ],
   "source": [
    "payment_7days = payment_duration[(payment_duration['pay_duration']<=7)]\n",
    "payment_7days.Total_Transaction.sum()"
   ]
  },
  {
   "cell_type": "code",
   "execution_count": 22,
   "metadata": {},
   "outputs": [
    {
     "data": {
      "text/plain": [
       "<AxesSubplot:>"
      ]
     },
     "execution_count": 22,
     "metadata": {},
     "output_type": "execute_result"
    },
    {
     "data": {
      "image/png": "[encoded data removed]",
      "text/plain": [
       "<Figure size 432x288 with 1 Axes>"
      ]
     },
     "metadata": {},
     "output_type": "display_data"
    }
   ],
   "source": [
    "paid_data['pay_duration'].value_counts().sort_index().plot()"
   ]
  },
  {
   "cell_type": "code",
   "execution_count": 23,
   "metadata": {},
   "outputs": [
    {
     "data": {
      "text/plain": [
       "<AxesSubplot:xlabel='pay_duration'>"
      ]
     },
     "execution_count": 23,
     "metadata": {},
     "output_type": "execute_result"
    },
    {
     "data": {
      "image/png": "[encoded data removed]",
      "text/plain": [
       "<Figure size 432x288 with 1 Axes>"
      ]
     },
     "metadata": {},
     "output_type": "display_data"
    }
   ],
   "source": [
    "sns.boxplot(x=paid_data.pay_duration)"
   ]
  },
  {
   "cell_type": "markdown",
   "metadata": {},
   "source": [
    "Based on the distribution of all time durations needed to complete payment, there are 28274 out of 49956 transaction payments completed within the same day (pay_duration = 0 days). this means aroud 56.6% of the transaction are made and paid in the same day. 36594 out of 49956 or aboout 73.25% of the transactions are paid within in a week."
   ]
  },
  {
   "cell_type": "markdown",
   "metadata": {},
   "source": [
    "### e. Customer Segementation based on Purchase History"
   ]
  },
  {
   "cell_type": "markdown",
   "metadata": {},
   "source": [
    "In this part we will apply machine learning method for clustering which is k-means to segmentise the customers based on their transaction history. The K-means clustering algorithm aims to partitioning n observations into k clusters \n",
    "in which each observation belongs to the cluster with the nearest mean.\n",
    "\n",
    "\n",
    "In the segmentation process we will calculate the RFM Score for each customers, then we appy k-means methods to cluster the customer based on their RFM Score. \n"
   ]
  },
  {
   "cell_type": "markdown",
   "metadata": {},
   "source": [
    "##### RFM Score"
   ]
  },
  {
   "cell_type": "markdown",
   "metadata": {},
   "source": [
    "RFM is a strategy for analyzing and estimating the value of a customer, based on three data points: \n",
    "\n",
    "    - Recency (How recently did the customer make a purchase?)\n",
    "\n",
    "    - Frequency (How often do they purchase)\n",
    "\n",
    "    - Monetary Value (How much do they spend?)"
   ]
  },
  {
   "cell_type": "code",
   "execution_count": 24,
   "metadata": {},
   "outputs": [
    {
     "data": {
      "text/plain": [
       "Timestamp('2019-12-16 16:11:53')"
      ]
     },
     "execution_count": 24,
     "metadata": {},
     "output_type": "execute_result"
    }
   ],
   "source": [
    "#Latest date of transaction in the dataset\n",
    "paid_data.invoice_created_at.max()"
   ]
  },
  {
   "cell_type": "code",
   "execution_count": 25,
   "metadata": {},
   "outputs": [
    {
     "data": {
      "text/html": [
       "<div>\n",
       "<style scoped>\n",
       "    .dataframe tbody tr th:only-of-type {\n",
       "        vertical-align: middle;\n",
       "    }\n",
       "\n",
       "    .dataframe tbody tr th {\n",
       "        vertical-align: top;\n",
       "    }\n",
       "\n",
       "    .dataframe thead th {\n",
       "        text-align: right;\n",
       "    }\n",
       "</style>\n",
       "<table border=\"1\" class=\"dataframe\">\n",
       "  <thead>\n",
       "    <tr style=\"text-align: right;\">\n",
       "      <th></th>\n",
       "      <th>client_id</th>\n",
       "      <th>Recency</th>\n",
       "      <th>Frequency</th>\n",
       "      <th>Monetary</th>\n",
       "    </tr>\n",
       "  </thead>\n",
       "  <tbody>\n",
       "    <tr>\n",
       "      <th>0</th>\n",
       "      <td>22</td>\n",
       "      <td>252</td>\n",
       "      <td>1.0</td>\n",
       "      <td>216.00</td>\n",
       "    </tr>\n",
       "    <tr>\n",
       "      <th>1</th>\n",
       "      <td>37</td>\n",
       "      <td>117</td>\n",
       "      <td>1.0</td>\n",
       "      <td>59.28</td>\n",
       "    </tr>\n",
       "    <tr>\n",
       "      <th>2</th>\n",
       "      <td>39</td>\n",
       "      <td>36</td>\n",
       "      <td>1.0</td>\n",
       "      <td>78.00</td>\n",
       "    </tr>\n",
       "    <tr>\n",
       "      <th>3</th>\n",
       "      <td>45</td>\n",
       "      <td>309</td>\n",
       "      <td>1.0</td>\n",
       "      <td>78.00</td>\n",
       "    </tr>\n",
       "    <tr>\n",
       "      <th>4</th>\n",
       "      <td>46</td>\n",
       "      <td>202</td>\n",
       "      <td>1.0</td>\n",
       "      <td>101.40</td>\n",
       "    </tr>\n",
       "    <tr>\n",
       "      <th>5</th>\n",
       "      <td>48</td>\n",
       "      <td>108</td>\n",
       "      <td>17.0</td>\n",
       "      <td>1024.66</td>\n",
       "    </tr>\n",
       "    <tr>\n",
       "      <th>6</th>\n",
       "      <td>49</td>\n",
       "      <td>317</td>\n",
       "      <td>1.0</td>\n",
       "      <td>102.96</td>\n",
       "    </tr>\n",
       "    <tr>\n",
       "      <th>7</th>\n",
       "      <td>52</td>\n",
       "      <td>207</td>\n",
       "      <td>2.0</td>\n",
       "      <td>140.40</td>\n",
       "    </tr>\n",
       "    <tr>\n",
       "      <th>8</th>\n",
       "      <td>93</td>\n",
       "      <td>73</td>\n",
       "      <td>1.0</td>\n",
       "      <td>117.00</td>\n",
       "    </tr>\n",
       "    <tr>\n",
       "      <th>9</th>\n",
       "      <td>108</td>\n",
       "      <td>344</td>\n",
       "      <td>1.0</td>\n",
       "      <td>78.00</td>\n",
       "    </tr>\n",
       "  </tbody>\n",
       "</table>\n",
       "</div>"
      ],
      "text/plain": [
       "   client_id  Recency  Frequency  Monetary\n",
       "0         22      252        1.0    216.00\n",
       "1         37      117        1.0     59.28\n",
       "2         39       36        1.0     78.00\n",
       "3         45      309        1.0     78.00\n",
       "4         46      202        1.0    101.40\n",
       "5         48      108       17.0   1024.66\n",
       "6         49      317        1.0    102.96\n",
       "7         52      207        2.0    140.40\n",
       "8         93       73        1.0    117.00\n",
       "9        108      344        1.0     78.00"
      ]
     },
     "execution_count": 25,
     "metadata": {},
     "output_type": "execute_result"
    }
   ],
   "source": [
    "#Recency = Latest Date - Last Inovice Data, \n",
    "#Frequency = count of transaction(s), \n",
    "#Monetary = Sum of Total Amount for each customer\n",
    "import datetime as dt\n",
    "\n",
    "Latest_Date = dt.datetime(2019,12,16)\n",
    "\n",
    "#Create RFM Modelling scores for each customer\n",
    "RFMScores = paid_data.groupby('client_id').agg({'invoice_created_at': lambda x: (Latest_Date - x.max()).days, \n",
    "                                              'invoice_id': lambda x: len(x), 'discounted_price': lambda x: x.sum()})\n",
    "\n",
    "#Convert Invoice Date into type int\n",
    "RFMScores['invoice_created_at'] = RFMScores['invoice_created_at'].astype(int)\n",
    "\n",
    "#Rename column names to Recency, Frequency and Monetary\n",
    "RFMScores.rename(columns={'invoice_created_at': 'Recency', \n",
    "                         'invoice_id': 'Frequency', \n",
    "                         'discounted_price': 'Monetary'}, inplace=True)\n",
    "\n",
    "RFMScores.reset_index().head(10)"
   ]
  },
  {
   "cell_type": "code",
   "execution_count": 26,
   "metadata": {},
   "outputs": [
    {
     "data": {
      "text/plain": [
       "<AxesSubplot:xlabel='Recency'>"
      ]
     },
     "execution_count": 26,
     "metadata": {},
     "output_type": "execute_result"
    },
    {
     "data": {
      "image/png": "[encoded data removed]",
      "text/plain": [
       "<Figure size 432x288 with 1 Axes>"
      ]
     },
     "metadata": {},
     "output_type": "display_data"
    }
   ],
   "source": [
    "#Recency distribution plot\n",
    "Recency = RFMScores['Recency']\n",
    "sns.distplot(Recency)"
   ]
  },
  {
   "cell_type": "markdown",
   "metadata": {},
   "source": [
    "##### K-Means Clustering\n",
    "\n",
    "- Pre-processing\n",
    "\n",
    "Firstly, we will apply pre-processing to standarise our RFM Score.In this particular data we will use StandardScaler, the idea of StandardScaler is that it will transform your data such that its distribution will have a mean value 0 and standard deviation of 1."
   ]
  },
  {
   "cell_type": "code",
   "execution_count": 27,
   "metadata": {},
   "outputs": [],
   "source": [
    "#Handle negative and zero values so as to handle infinite numbers during log transformation\n",
    "def handle_neg_n_zero(num):\n",
    "    if num <= 0:\n",
    "        return 1\n",
    "    else:\n",
    "        return num\n",
    "#Apply handle_neg_n_zero function to Recency and Monetary columns \n",
    "RFMScores['Recency'] = [handle_neg_n_zero(x) for x in RFMScores.Recency]\n",
    "RFMScores['Monetary'] = [handle_neg_n_zero(x) for x in RFMScores.Monetary]\n",
    "\n",
    "#Perform Log transformation to bring data into normal or near normal distribution\n",
    "Log_Tfd_Data = RFMScores[['Recency', 'Frequency', 'Monetary']].apply(np.log, axis = 1).round(3)"
   ]
  },
  {
   "cell_type": "code",
   "execution_count": 28,
   "metadata": {},
   "outputs": [],
   "source": [
    "from sklearn.preprocessing import StandardScaler\n",
    "\n",
    "#Bring the data on same scale\n",
    "scaleobj = StandardScaler()\n",
    "Scaled_Data = scaleobj.fit_transform(Log_Tfd_Data)\n",
    "\n",
    "#Transform it back to dataframe\n",
    "Scaled_Data = pd.DataFrame(Scaled_Data, index = RFMScores.index, columns = Log_Tfd_Data.columns)"
   ]
  },
  {
   "cell_type": "markdown",
   "metadata": {},
   "source": [
    "- Elbow method\n",
    "\n",
    "Secondly, Elbow method is appyed to get the best value for k"
   ]
  },
  {
   "cell_type": "code",
   "execution_count": 29,
   "metadata": {},
   "outputs": [
    {
     "data": {
      "image/png": "[encoded data removed]",
      "text/plain": [
       "<Figure size 432x288 with 1 Axes>"
      ]
     },
     "metadata": {},
     "output_type": "display_data"
    }
   ],
   "source": [
    "from sklearn.cluster import KMeans\n",
    "\n",
    "sum_of_sq_dist = {}\n",
    "for k in range(1,15):\n",
    "    km = KMeans(n_clusters= k, init= 'k-means++', max_iter= 1000)\n",
    "    km = km.fit(Scaled_Data)\n",
    "    sum_of_sq_dist[k] = km.inertia_\n",
    "    \n",
    "#Plot the graph for the sum of square distance values and Number of Clusters\n",
    "sns.pointplot(x = list(sum_of_sq_dist.keys()), y = list(sum_of_sq_dist.values()))\n",
    "plt.xlabel('Number of Clusters(k)')\n",
    "plt.ylabel('Sum of Square Distances')\n",
    "plt.title('Elbow Method For Optimal k')\n",
    "plt.show()"
   ]
  },
  {
   "cell_type": "markdown",
   "metadata": {},
   "source": [
    "Based on the Elbow method we get the optimal value for k = 3"
   ]
  },
  {
   "cell_type": "markdown",
   "metadata": {},
   "source": [
    "- Clustering\n"
   ]
  },
  {
   "cell_type": "code",
   "execution_count": 30,
   "metadata": {},
   "outputs": [
    {
     "data": {
      "text/html": [
       "<div>\n",
       "<style scoped>\n",
       "    .dataframe tbody tr th:only-of-type {\n",
       "        vertical-align: middle;\n",
       "    }\n",
       "\n",
       "    .dataframe tbody tr th {\n",
       "        vertical-align: top;\n",
       "    }\n",
       "\n",
       "    .dataframe thead th {\n",
       "        text-align: right;\n",
       "    }\n",
       "</style>\n",
       "<table border=\"1\" class=\"dataframe\">\n",
       "  <thead>\n",
       "    <tr style=\"text-align: right;\">\n",
       "      <th></th>\n",
       "      <th>Recency</th>\n",
       "      <th>Frequency</th>\n",
       "      <th>Monetary</th>\n",
       "      <th>Cluster</th>\n",
       "    </tr>\n",
       "    <tr>\n",
       "      <th>client_id</th>\n",
       "      <th></th>\n",
       "      <th></th>\n",
       "      <th></th>\n",
       "      <th></th>\n",
       "    </tr>\n",
       "  </thead>\n",
       "  <tbody>\n",
       "    <tr>\n",
       "      <th>22</th>\n",
       "      <td>252</td>\n",
       "      <td>1.0</td>\n",
       "      <td>216.00</td>\n",
       "      <td>0</td>\n",
       "    </tr>\n",
       "    <tr>\n",
       "      <th>37</th>\n",
       "      <td>117</td>\n",
       "      <td>1.0</td>\n",
       "      <td>59.28</td>\n",
       "      <td>0</td>\n",
       "    </tr>\n",
       "    <tr>\n",
       "      <th>39</th>\n",
       "      <td>36</td>\n",
       "      <td>1.0</td>\n",
       "      <td>78.00</td>\n",
       "      <td>1</td>\n",
       "    </tr>\n",
       "    <tr>\n",
       "      <th>45</th>\n",
       "      <td>309</td>\n",
       "      <td>1.0</td>\n",
       "      <td>78.00</td>\n",
       "      <td>0</td>\n",
       "    </tr>\n",
       "    <tr>\n",
       "      <th>46</th>\n",
       "      <td>202</td>\n",
       "      <td>1.0</td>\n",
       "      <td>101.40</td>\n",
       "      <td>0</td>\n",
       "    </tr>\n",
       "    <tr>\n",
       "      <th>48</th>\n",
       "      <td>108</td>\n",
       "      <td>17.0</td>\n",
       "      <td>1024.66</td>\n",
       "      <td>2</td>\n",
       "    </tr>\n",
       "    <tr>\n",
       "      <th>49</th>\n",
       "      <td>317</td>\n",
       "      <td>1.0</td>\n",
       "      <td>102.96</td>\n",
       "      <td>0</td>\n",
       "    </tr>\n",
       "    <tr>\n",
       "      <th>52</th>\n",
       "      <td>207</td>\n",
       "      <td>2.0</td>\n",
       "      <td>140.40</td>\n",
       "      <td>0</td>\n",
       "    </tr>\n",
       "    <tr>\n",
       "      <th>93</th>\n",
       "      <td>73</td>\n",
       "      <td>1.0</td>\n",
       "      <td>117.00</td>\n",
       "      <td>0</td>\n",
       "    </tr>\n",
       "    <tr>\n",
       "      <th>108</th>\n",
       "      <td>344</td>\n",
       "      <td>1.0</td>\n",
       "      <td>78.00</td>\n",
       "      <td>0</td>\n",
       "    </tr>\n",
       "  </tbody>\n",
       "</table>\n",
       "</div>"
      ],
      "text/plain": [
       "           Recency  Frequency  Monetary  Cluster\n",
       "client_id                                       \n",
       "22             252        1.0    216.00        0\n",
       "37             117        1.0     59.28        0\n",
       "39              36        1.0     78.00        1\n",
       "45             309        1.0     78.00        0\n",
       "46             202        1.0    101.40        0\n",
       "48             108       17.0   1024.66        2\n",
       "49             317        1.0    102.96        0\n",
       "52             207        2.0    140.40        0\n",
       "93              73        1.0    117.00        0\n",
       "108            344        1.0     78.00        0"
      ]
     },
     "execution_count": 30,
     "metadata": {},
     "output_type": "execute_result"
    }
   ],
   "source": [
    "#Perform K-Mean Clustering \n",
    "KMean_clust = KMeans(n_clusters= 3, init= 'k-means++', max_iter= 1000)\n",
    "KMean_clust.fit(Scaled_Data)\n",
    "\n",
    "#Find the clusters for the observation given in the dataset\n",
    "RFMScores['Cluster'] = KMean_clust.labels_\n",
    "RFMScores.head(10)"
   ]
  },
  {
   "cell_type": "code",
   "execution_count": 31,
   "metadata": {},
   "outputs": [
    {
     "data": {
      "text/plain": [
       "<Figure size 504x504 with 0 Axes>"
      ]
     },
     "metadata": {},
     "output_type": "display_data"
    },
    {
     "data": {
      "image/png": "[encoded data removed]",
      "text/plain": [
       "<Figure size 720x576 with 1 Axes>"
      ]
     },
     "metadata": {},
     "output_type": "display_data"
    }
   ],
   "source": [
    "from matplotlib import pyplot as plt\n",
    "plt.figure(figsize=(7,7))\n",
    "\n",
    "##Scatter Plot Frequency Vs Recency\n",
    "Colors = [\"green\", \"blue\", \"red\"]\n",
    "RFMScores['Color'] = RFMScores['Cluster'].map(lambda p: Colors[p])\n",
    "ax = RFMScores.plot(    \n",
    "    kind=\"scatter\", \n",
    "    x=\"Recency\", y=\"Monetary\",\n",
    "    figsize=(10,8),\n",
    "    c = RFMScores['Color']\n",
    ")"
   ]
  },
  {
   "cell_type": "code",
   "execution_count": 32,
   "metadata": {},
   "outputs": [
    {
     "data": {
      "image/png": "[encoded data removed]",
      "text/plain": [
       "<Figure size 720x576 with 1 Axes>"
      ]
     },
     "metadata": {},
     "output_type": "display_data"
    }
   ],
   "source": [
    "bx = RFMScores.plot(    \n",
    "    kind=\"scatter\", \n",
    "    x=\"Frequency\", y=\"Monetary\",\n",
    "    figsize=(10,8),\n",
    "    c = RFMScores['Color']\n",
    ")"
   ]
  },
  {
   "cell_type": "markdown",
   "metadata": {},
   "source": [
    "What we can do with this segmentation\n",
    "\n",
    "- Evaluating potential profits from segments and decide with segment to focus on. \n",
    "For this data set, customers in red segment migh be costomers that the company don't want to lose, as they tend to spend higher and more frequent. While the blue segment are those who just made purcahsing recently with still lower frequency. This segment migh be our new coustomers and the company need to retain them. the blue segment are potential customers that migh turn to red segment if the company succed to retain them. \n",
    "    \n",
    "- Differentiate customers based on their spending and frequency of transaction by doing this we can also personalise our marketing promotion for each segment\n",
    "\n",
    "- Instead of giving discount to the ”loyal” customer, we can reward them with membership (Platinum, Gold, Silver membership)\n"
   ]
  },
  {
   "cell_type": "markdown",
   "metadata": {},
   "source": [
    "### e. Further Exploration"
   ]
  },
  {
   "cell_type": "markdown",
   "metadata": {},
   "source": [
    "### Revenue Trend Over The Time"
   ]
  },
  {
   "cell_type": "code",
   "execution_count": 33,
   "metadata": {},
   "outputs": [],
   "source": [
    "paid_data['OrderPeriod'] = paid_data.invoice_created_at.apply(lambda x: x.strftime('%Y-%m'))"
   ]
  },
  {
   "cell_type": "code",
   "execution_count": 34,
   "metadata": {},
   "outputs": [
    {
     "data": {
      "text/html": [
       "<div>\n",
       "<style scoped>\n",
       "    .dataframe tbody tr th:only-of-type {\n",
       "        vertical-align: middle;\n",
       "    }\n",
       "\n",
       "    .dataframe tbody tr th {\n",
       "        vertical-align: top;\n",
       "    }\n",
       "\n",
       "    .dataframe thead th {\n",
       "        text-align: right;\n",
       "    }\n",
       "</style>\n",
       "<table border=\"1\" class=\"dataframe\">\n",
       "  <thead>\n",
       "    <tr style=\"text-align: right;\">\n",
       "      <th></th>\n",
       "      <th>discounted_price</th>\n",
       "    </tr>\n",
       "    <tr>\n",
       "      <th>OrderPeriod</th>\n",
       "      <th></th>\n",
       "    </tr>\n",
       "  </thead>\n",
       "  <tbody>\n",
       "    <tr>\n",
       "      <th>2018-12</th>\n",
       "      <td>47249.18</td>\n",
       "    </tr>\n",
       "    <tr>\n",
       "      <th>2019-01</th>\n",
       "      <td>433002.48</td>\n",
       "    </tr>\n",
       "    <tr>\n",
       "      <th>2019-02</th>\n",
       "      <td>393927.67</td>\n",
       "    </tr>\n",
       "    <tr>\n",
       "      <th>2019-03</th>\n",
       "      <td>378047.16</td>\n",
       "    </tr>\n",
       "    <tr>\n",
       "      <th>2019-04</th>\n",
       "      <td>340160.09</td>\n",
       "    </tr>\n",
       "    <tr>\n",
       "      <th>2019-05</th>\n",
       "      <td>363776.36</td>\n",
       "    </tr>\n",
       "    <tr>\n",
       "      <th>2019-06</th>\n",
       "      <td>343250.23</td>\n",
       "    </tr>\n",
       "    <tr>\n",
       "      <th>2019-07</th>\n",
       "      <td>419694.78</td>\n",
       "    </tr>\n",
       "    <tr>\n",
       "      <th>2019-08</th>\n",
       "      <td>460012.58</td>\n",
       "    </tr>\n",
       "    <tr>\n",
       "      <th>2019-09</th>\n",
       "      <td>400009.03</td>\n",
       "    </tr>\n",
       "    <tr>\n",
       "      <th>2019-10</th>\n",
       "      <td>458646.70</td>\n",
       "    </tr>\n",
       "    <tr>\n",
       "      <th>2019-11</th>\n",
       "      <td>425933.56</td>\n",
       "    </tr>\n",
       "    <tr>\n",
       "      <th>2019-12</th>\n",
       "      <td>216343.80</td>\n",
       "    </tr>\n",
       "  </tbody>\n",
       "</table>\n",
       "</div>"
      ],
      "text/plain": [
       "             discounted_price\n",
       "OrderPeriod                  \n",
       "2018-12              47249.18\n",
       "2019-01             433002.48\n",
       "2019-02             393927.67\n",
       "2019-03             378047.16\n",
       "2019-04             340160.09\n",
       "2019-05             363776.36\n",
       "2019-06             343250.23\n",
       "2019-07             419694.78\n",
       "2019-08             460012.58\n",
       "2019-09             400009.03\n",
       "2019-10             458646.70\n",
       "2019-11             425933.56\n",
       "2019-12             216343.80"
      ]
     },
     "execution_count": 34,
     "metadata": {},
     "output_type": "execute_result"
    }
   ],
   "source": [
    "revenue = pd.pivot_table(paid_data, values='discounted_price', index=['OrderPeriod'], aggfunc='sum')\n",
    "revenue"
   ]
  },
  {
   "cell_type": "code",
   "execution_count": 35,
   "metadata": {},
   "outputs": [
    {
     "data": {
      "image/png": "[encoded data removed]",
      "text/plain": [
       "<Figure size 576x360 with 1 Axes>"
      ]
     },
     "metadata": {},
     "output_type": "display_data"
    }
   ],
   "source": [
    "revenue.plot(figsize=(8, 5), title='Revenue');\n",
    "plt.ticklabel_format(style='plain', axis='y')"
   ]
  },
  {
   "cell_type": "markdown",
   "metadata": {},
   "source": [
    "The line graph above ilustrates that the company monthly revenue is fluctuated. The monthly revenue gradually decreased in the first six months. Generally, the monthly revenue of the company lies roughly between 340,000 USD to 430,000 USD"
   ]
  },
  {
   "cell_type": "code",
   "execution_count": 36,
   "metadata": {},
   "outputs": [
    {
     "data": {
      "image/png": "[encoded data removed]",
      "text/plain": [
       "<Figure size 576x360 with 1 Axes>"
      ]
     },
     "metadata": {},
     "output_type": "display_data"
    }
   ],
   "source": [
    "revenue_byClientTask = pd.pivot_table(paid_data, values='discounted_price', index=['OrderPeriod'],\n",
    "                    columns=['client_task'], aggfunc='sum')\n",
    "\n",
    "revenue_byClientTask.plot(figsize=(8, 5), title='Revenue based on Client Task');\n",
    "\n",
    "plt.ticklabel_format(style='plain', axis='y')"
   ]
  },
  {
   "cell_type": "markdown",
   "metadata": {},
   "source": [
    "The composition of monthly revenue based on the client task (Activate or Renew) can be seen in the line chart above. \n",
    "As we can see, Activate transaction contribute more to the company revenue in every month. This indicates that most of the services delivered during this period of time are new. It means the company needs to work on the customers retension.  "
   ]
  },
  {
   "cell_type": "markdown",
   "metadata": {},
   "source": [
    "#### Transaction Status"
   ]
  },
  {
   "cell_type": "code",
   "execution_count": 37,
   "metadata": {},
   "outputs": [
    {
     "data": {
      "text/plain": [
       "<AxesSubplot:>"
      ]
     },
     "execution_count": 37,
     "metadata": {},
     "output_type": "execute_result"
    },
    {
     "data": {
      "image/png": "[encoded data removed]",
      "text/plain": [
       "<Figure size 432x288 with 1 Axes>"
      ]
     },
     "metadata": {},
     "output_type": "display_data"
    }
   ],
   "source": [
    "pd.Series(data.invoice_status).value_counts().plot(kind = 'bar')"
   ]
  },
  {
   "cell_type": "code",
   "execution_count": 38,
   "metadata": {},
   "outputs": [
    {
     "data": {
      "text/plain": [
       "<AxesSubplot:>"
      ]
     },
     "execution_count": 38,
     "metadata": {},
     "output_type": "execute_result"
    },
    {
     "data": {
      "image/png": "[encoded data removed]",
      "text/plain": [
       "<Figure size 432x288 with 1 Axes>"
      ]
     },
     "metadata": {},
     "output_type": "display_data"
    }
   ],
   "source": [
    "pd.Series(data.service_status).value_counts().plot(kind = 'bar')"
   ]
  },
  {
   "cell_type": "markdown",
   "metadata": {},
   "source": [
    "#### Product Improvement"
   ]
  },
  {
   "cell_type": "code",
   "execution_count": 39,
   "metadata": {},
   "outputs": [
    {
     "data": {
      "text/html": [
       "<div>\n",
       "<style scoped>\n",
       "    .dataframe tbody tr th:only-of-type {\n",
       "        vertical-align: middle;\n",
       "    }\n",
       "\n",
       "    .dataframe tbody tr th {\n",
       "        vertical-align: top;\n",
       "    }\n",
       "\n",
       "    .dataframe thead th {\n",
       "        text-align: right;\n",
       "    }\n",
       "</style>\n",
       "<table border=\"1\" class=\"dataframe\">\n",
       "  <thead>\n",
       "    <tr style=\"text-align: right;\">\n",
       "      <th></th>\n",
       "      <th>product_id</th>\n",
       "      <th>monthly_price_usd</th>\n",
       "      <th>monthly_period</th>\n",
       "      <th>discount</th>\n",
       "      <th>pay_duration</th>\n",
       "    </tr>\n",
       "  </thead>\n",
       "  <tbody>\n",
       "    <tr>\n",
       "      <th>0</th>\n",
       "      <td>1</td>\n",
       "      <td>6.0</td>\n",
       "      <td>16.421313</td>\n",
       "      <td>0.398025</td>\n",
       "      <td>3.241143</td>\n",
       "    </tr>\n",
       "    <tr>\n",
       "      <th>1</th>\n",
       "      <td>2</td>\n",
       "      <td>9.0</td>\n",
       "      <td>12.280060</td>\n",
       "      <td>0.341805</td>\n",
       "      <td>5.385137</td>\n",
       "    </tr>\n",
       "    <tr>\n",
       "      <th>2</th>\n",
       "      <td>3</td>\n",
       "      <td>13.0</td>\n",
       "      <td>19.229391</td>\n",
       "      <td>0.572999</td>\n",
       "      <td>3.736828</td>\n",
       "    </tr>\n",
       "    <tr>\n",
       "      <th>3</th>\n",
       "      <td>4</td>\n",
       "      <td>18.0</td>\n",
       "      <td>13.348434</td>\n",
       "      <td>0.424074</td>\n",
       "      <td>6.452530</td>\n",
       "    </tr>\n",
       "    <tr>\n",
       "      <th>4</th>\n",
       "      <td>5</td>\n",
       "      <td>24.0</td>\n",
       "      <td>6.271505</td>\n",
       "      <td>0.314355</td>\n",
       "      <td>3.750000</td>\n",
       "    </tr>\n",
       "    <tr>\n",
       "      <th>5</th>\n",
       "      <td>6</td>\n",
       "      <td>34.0</td>\n",
       "      <td>6.268293</td>\n",
       "      <td>0.382753</td>\n",
       "      <td>4.006969</td>\n",
       "    </tr>\n",
       "    <tr>\n",
       "      <th>6</th>\n",
       "      <td>7</td>\n",
       "      <td>64.0</td>\n",
       "      <td>17.259875</td>\n",
       "      <td>0.550894</td>\n",
       "      <td>2.619543</td>\n",
       "    </tr>\n",
       "    <tr>\n",
       "      <th>7</th>\n",
       "      <td>8</td>\n",
       "      <td>124.0</td>\n",
       "      <td>6.281690</td>\n",
       "      <td>0.358169</td>\n",
       "      <td>5.070423</td>\n",
       "    </tr>\n",
       "    <tr>\n",
       "      <th>8</th>\n",
       "      <td>9</td>\n",
       "      <td>17.0</td>\n",
       "      <td>2.537597</td>\n",
       "      <td>0.121333</td>\n",
       "      <td>9.477132</td>\n",
       "    </tr>\n",
       "    <tr>\n",
       "      <th>9</th>\n",
       "      <td>10</td>\n",
       "      <td>28.0</td>\n",
       "      <td>3.194316</td>\n",
       "      <td>0.146644</td>\n",
       "      <td>10.387865</td>\n",
       "    </tr>\n",
       "    <tr>\n",
       "      <th>10</th>\n",
       "      <td>11</td>\n",
       "      <td>39.0</td>\n",
       "      <td>6.886650</td>\n",
       "      <td>0.409490</td>\n",
       "      <td>7.517632</td>\n",
       "    </tr>\n",
       "    <tr>\n",
       "      <th>11</th>\n",
       "      <td>12</td>\n",
       "      <td>49.0</td>\n",
       "      <td>3.544554</td>\n",
       "      <td>0.126248</td>\n",
       "      <td>10.256436</td>\n",
       "    </tr>\n",
       "    <tr>\n",
       "      <th>12</th>\n",
       "      <td>13</td>\n",
       "      <td>74.0</td>\n",
       "      <td>3.325175</td>\n",
       "      <td>0.206329</td>\n",
       "      <td>8.076923</td>\n",
       "    </tr>\n",
       "    <tr>\n",
       "      <th>13</th>\n",
       "      <td>14</td>\n",
       "      <td>94.0</td>\n",
       "      <td>3.825000</td>\n",
       "      <td>0.296732</td>\n",
       "      <td>8.901786</td>\n",
       "    </tr>\n",
       "  </tbody>\n",
       "</table>\n",
       "</div>"
      ],
      "text/plain": [
       "    product_id  monthly_price_usd  monthly_period  discount  pay_duration\n",
       "0            1                6.0       16.421313  0.398025      3.241143\n",
       "1            2                9.0       12.280060  0.341805      5.385137\n",
       "2            3               13.0       19.229391  0.572999      3.736828\n",
       "3            4               18.0       13.348434  0.424074      6.452530\n",
       "4            5               24.0        6.271505  0.314355      3.750000\n",
       "5            6               34.0        6.268293  0.382753      4.006969\n",
       "6            7               64.0       17.259875  0.550894      2.619543\n",
       "7            8              124.0        6.281690  0.358169      5.070423\n",
       "8            9               17.0        2.537597  0.121333      9.477132\n",
       "9           10               28.0        3.194316  0.146644     10.387865\n",
       "10          11               39.0        6.886650  0.409490      7.517632\n",
       "11          12               49.0        3.544554  0.126248     10.256436\n",
       "12          13               74.0        3.325175  0.206329      8.076923\n",
       "13          14               94.0        3.825000  0.296732      8.901786"
      ]
     },
     "execution_count": 39,
     "metadata": {},
     "output_type": "execute_result"
    }
   ],
   "source": [
    "product_char = paid_data.groupby('product_id')['monthly_price_usd','monthly_period','discount','pay_duration'].mean().reset_index()\n",
    "product_char"
   ]
  },
  {
   "cell_type": "markdown",
   "metadata": {},
   "source": [
    "The table above indicates that there are five products (product 9, 10, 12, 13, 14) that only have less than 4 month of average service period and those five products tend to heave higher average time duration of payments completition. The product team need to works on those five products like offering higher discount for the longer services. "
   ]
  },
  {
   "cell_type": "code",
   "execution_count": 40,
   "metadata": {},
   "outputs": [
    {
     "data": {
      "text/html": [
       "<div>\n",
       "<style scoped>\n",
       "    .dataframe tbody tr th:only-of-type {\n",
       "        vertical-align: middle;\n",
       "    }\n",
       "\n",
       "    .dataframe tbody tr th {\n",
       "        vertical-align: top;\n",
       "    }\n",
       "\n",
       "    .dataframe thead th {\n",
       "        text-align: right;\n",
       "    }\n",
       "</style>\n",
       "<table border=\"1\" class=\"dataframe\">\n",
       "  <thead>\n",
       "    <tr style=\"text-align: right;\">\n",
       "      <th>client_task</th>\n",
       "      <th>product_id</th>\n",
       "      <th>Activate</th>\n",
       "      <th>Renew</th>\n",
       "      <th>Total Transaction</th>\n",
       "    </tr>\n",
       "  </thead>\n",
       "  <tbody>\n",
       "    <tr>\n",
       "      <th>0</th>\n",
       "      <td>1</td>\n",
       "      <td>2764.0</td>\n",
       "      <td>877.0</td>\n",
       "      <td>3641.0</td>\n",
       "    </tr>\n",
       "    <tr>\n",
       "      <th>1</th>\n",
       "      <td>2</td>\n",
       "      <td>4768.0</td>\n",
       "      <td>4530.0</td>\n",
       "      <td>9298.0</td>\n",
       "    </tr>\n",
       "    <tr>\n",
       "      <th>2</th>\n",
       "      <td>3</td>\n",
       "      <td>15047.0</td>\n",
       "      <td>6837.0</td>\n",
       "      <td>21884.0</td>\n",
       "    </tr>\n",
       "    <tr>\n",
       "      <th>3</th>\n",
       "      <td>4</td>\n",
       "      <td>2812.0</td>\n",
       "      <td>3413.0</td>\n",
       "      <td>6225.0</td>\n",
       "    </tr>\n",
       "    <tr>\n",
       "      <th>4</th>\n",
       "      <td>5</td>\n",
       "      <td>529.0</td>\n",
       "      <td>215.0</td>\n",
       "      <td>744.0</td>\n",
       "    </tr>\n",
       "    <tr>\n",
       "      <th>5</th>\n",
       "      <td>6</td>\n",
       "      <td>191.0</td>\n",
       "      <td>96.0</td>\n",
       "      <td>287.0</td>\n",
       "    </tr>\n",
       "    <tr>\n",
       "      <th>6</th>\n",
       "      <td>7</td>\n",
       "      <td>399.0</td>\n",
       "      <td>82.0</td>\n",
       "      <td>481.0</td>\n",
       "    </tr>\n",
       "    <tr>\n",
       "      <th>7</th>\n",
       "      <td>8</td>\n",
       "      <td>48.0</td>\n",
       "      <td>23.0</td>\n",
       "      <td>71.0</td>\n",
       "    </tr>\n",
       "    <tr>\n",
       "      <th>8</th>\n",
       "      <td>9</td>\n",
       "      <td>801.0</td>\n",
       "      <td>1779.0</td>\n",
       "      <td>2580.0</td>\n",
       "    </tr>\n",
       "    <tr>\n",
       "      <th>9</th>\n",
       "      <td>10</td>\n",
       "      <td>268.0</td>\n",
       "      <td>1034.0</td>\n",
       "      <td>1302.0</td>\n",
       "    </tr>\n",
       "    <tr>\n",
       "      <th>10</th>\n",
       "      <td>11</td>\n",
       "      <td>748.0</td>\n",
       "      <td>840.0</td>\n",
       "      <td>1588.0</td>\n",
       "    </tr>\n",
       "    <tr>\n",
       "      <th>11</th>\n",
       "      <td>12</td>\n",
       "      <td>206.0</td>\n",
       "      <td>804.0</td>\n",
       "      <td>1010.0</td>\n",
       "    </tr>\n",
       "    <tr>\n",
       "      <th>12</th>\n",
       "      <td>13</td>\n",
       "      <td>62.0</td>\n",
       "      <td>224.0</td>\n",
       "      <td>286.0</td>\n",
       "    </tr>\n",
       "    <tr>\n",
       "      <th>13</th>\n",
       "      <td>14</td>\n",
       "      <td>134.0</td>\n",
       "      <td>426.0</td>\n",
       "      <td>560.0</td>\n",
       "    </tr>\n",
       "  </tbody>\n",
       "</table>\n",
       "</div>"
      ],
      "text/plain": [
       "client_task  product_id  Activate   Renew  Total Transaction\n",
       "0                     1    2764.0   877.0             3641.0\n",
       "1                     2    4768.0  4530.0             9298.0\n",
       "2                     3   15047.0  6837.0            21884.0\n",
       "3                     4    2812.0  3413.0             6225.0\n",
       "4                     5     529.0   215.0              744.0\n",
       "5                     6     191.0    96.0              287.0\n",
       "6                     7     399.0    82.0              481.0\n",
       "7                     8      48.0    23.0               71.0\n",
       "8                     9     801.0  1779.0             2580.0\n",
       "9                    10     268.0  1034.0             1302.0\n",
       "10                   11     748.0   840.0             1588.0\n",
       "11                   12     206.0   804.0             1010.0\n",
       "12                   13      62.0   224.0              286.0\n",
       "13                   14     134.0   426.0              560.0"
      ]
     },
     "execution_count": 40,
     "metadata": {},
     "output_type": "execute_result"
    }
   ],
   "source": [
    "product_char2 = pd.pivot_table(paid_data, values='invoice_id', index=['product_id'],\n",
    "                    columns=['client_task'], aggfunc= len)\n",
    "product_char2 = product_char2.reset_index()\n",
    "product_char2['Total Transaction'] = product_char2['Activate']+ product_char2['Renew']\n",
    "product_char2"
   ]
  },
  {
   "cell_type": "markdown",
   "metadata": {},
   "source": [
    "Five product that have lowest number of transactions are Products 6, 7, 8, 13, 14. The number of transaction for both Activate and Renew services for these product are relatively low compare to other product. So, as a suggestion, marketing team needs to think marketing strategy to promote these products like free trial or \n",
    "exposing promotion (push notification / email notification) about the products. While, the product teams need to improve the serveces to retain the existing customers. "
   ]
  },
  {
   "cell_type": "code",
   "execution_count": 41,
   "metadata": {},
   "outputs": [
    {
     "data": {
      "text/html": [
       "<div>\n",
       "<style scoped>\n",
       "    .dataframe tbody tr th:only-of-type {\n",
       "        vertical-align: middle;\n",
       "    }\n",
       "\n",
       "    .dataframe tbody tr th {\n",
       "        vertical-align: top;\n",
       "    }\n",
       "\n",
       "    .dataframe thead th {\n",
       "        text-align: right;\n",
       "    }\n",
       "</style>\n",
       "<table border=\"1\" class=\"dataframe\">\n",
       "  <thead>\n",
       "    <tr style=\"text-align: right;\">\n",
       "      <th>service_status</th>\n",
       "      <th>Active</th>\n",
       "      <th>Cancelled</th>\n",
       "      <th>Failed Setup</th>\n",
       "      <th>Pending Setup</th>\n",
       "      <th>Suspended</th>\n",
       "    </tr>\n",
       "    <tr>\n",
       "      <th>product_id</th>\n",
       "      <th></th>\n",
       "      <th></th>\n",
       "      <th></th>\n",
       "      <th></th>\n",
       "      <th></th>\n",
       "    </tr>\n",
       "  </thead>\n",
       "  <tbody>\n",
       "    <tr>\n",
       "      <th>1</th>\n",
       "      <td>3474.0</td>\n",
       "      <td>110.0</td>\n",
       "      <td>4.0</td>\n",
       "      <td>NaN</td>\n",
       "      <td>53.0</td>\n",
       "    </tr>\n",
       "    <tr>\n",
       "      <th>2</th>\n",
       "      <td>8997.0</td>\n",
       "      <td>204.0</td>\n",
       "      <td>6.0</td>\n",
       "      <td>NaN</td>\n",
       "      <td>91.0</td>\n",
       "    </tr>\n",
       "    <tr>\n",
       "      <th>3</th>\n",
       "      <td>21288.0</td>\n",
       "      <td>418.0</td>\n",
       "      <td>10.0</td>\n",
       "      <td>2.0</td>\n",
       "      <td>166.0</td>\n",
       "    </tr>\n",
       "    <tr>\n",
       "      <th>4</th>\n",
       "      <td>6008.0</td>\n",
       "      <td>167.0</td>\n",
       "      <td>3.0</td>\n",
       "      <td>NaN</td>\n",
       "      <td>47.0</td>\n",
       "    </tr>\n",
       "    <tr>\n",
       "      <th>5</th>\n",
       "      <td>560.0</td>\n",
       "      <td>158.0</td>\n",
       "      <td>1.0</td>\n",
       "      <td>NaN</td>\n",
       "      <td>25.0</td>\n",
       "    </tr>\n",
       "    <tr>\n",
       "      <th>6</th>\n",
       "      <td>224.0</td>\n",
       "      <td>57.0</td>\n",
       "      <td>1.0</td>\n",
       "      <td>NaN</td>\n",
       "      <td>5.0</td>\n",
       "    </tr>\n",
       "    <tr>\n",
       "      <th>7</th>\n",
       "      <td>415.0</td>\n",
       "      <td>62.0</td>\n",
       "      <td>NaN</td>\n",
       "      <td>NaN</td>\n",
       "      <td>4.0</td>\n",
       "    </tr>\n",
       "    <tr>\n",
       "      <th>8</th>\n",
       "      <td>51.0</td>\n",
       "      <td>19.0</td>\n",
       "      <td>NaN</td>\n",
       "      <td>NaN</td>\n",
       "      <td>1.0</td>\n",
       "    </tr>\n",
       "    <tr>\n",
       "      <th>9</th>\n",
       "      <td>1366.0</td>\n",
       "      <td>1038.0</td>\n",
       "      <td>NaN</td>\n",
       "      <td>NaN</td>\n",
       "      <td>176.0</td>\n",
       "    </tr>\n",
       "    <tr>\n",
       "      <th>10</th>\n",
       "      <td>844.0</td>\n",
       "      <td>336.0</td>\n",
       "      <td>NaN</td>\n",
       "      <td>NaN</td>\n",
       "      <td>122.0</td>\n",
       "    </tr>\n",
       "    <tr>\n",
       "      <th>11</th>\n",
       "      <td>1215.0</td>\n",
       "      <td>309.0</td>\n",
       "      <td>NaN</td>\n",
       "      <td>NaN</td>\n",
       "      <td>64.0</td>\n",
       "    </tr>\n",
       "    <tr>\n",
       "      <th>12</th>\n",
       "      <td>785.0</td>\n",
       "      <td>192.0</td>\n",
       "      <td>NaN</td>\n",
       "      <td>NaN</td>\n",
       "      <td>33.0</td>\n",
       "    </tr>\n",
       "    <tr>\n",
       "      <th>13</th>\n",
       "      <td>219.0</td>\n",
       "      <td>47.0</td>\n",
       "      <td>NaN</td>\n",
       "      <td>NaN</td>\n",
       "      <td>20.0</td>\n",
       "    </tr>\n",
       "    <tr>\n",
       "      <th>14</th>\n",
       "      <td>391.0</td>\n",
       "      <td>151.0</td>\n",
       "      <td>NaN</td>\n",
       "      <td>NaN</td>\n",
       "      <td>18.0</td>\n",
       "    </tr>\n",
       "  </tbody>\n",
       "</table>\n",
       "</div>"
      ],
      "text/plain": [
       "service_status   Active  Cancelled  Failed Setup  Pending Setup  Suspended\n",
       "product_id                                                                \n",
       "1                3474.0      110.0           4.0            NaN       53.0\n",
       "2                8997.0      204.0           6.0            NaN       91.0\n",
       "3               21288.0      418.0          10.0            2.0      166.0\n",
       "4                6008.0      167.0           3.0            NaN       47.0\n",
       "5                 560.0      158.0           1.0            NaN       25.0\n",
       "6                 224.0       57.0           1.0            NaN        5.0\n",
       "7                 415.0       62.0           NaN            NaN        4.0\n",
       "8                  51.0       19.0           NaN            NaN        1.0\n",
       "9                1366.0     1038.0           NaN            NaN      176.0\n",
       "10                844.0      336.0           NaN            NaN      122.0\n",
       "11               1215.0      309.0           NaN            NaN       64.0\n",
       "12                785.0      192.0           NaN            NaN       33.0\n",
       "13                219.0       47.0           NaN            NaN       20.0\n",
       "14                391.0      151.0           NaN            NaN       18.0"
      ]
     },
     "execution_count": 41,
     "metadata": {},
     "output_type": "execute_result"
    }
   ],
   "source": [
    "#different aggregate functions\n",
    "paid_services = pd.pivot_table(paid_data, values='invoice_id', index=['product_id'],\n",
    "                    columns=['service_status'], aggfunc=len)\n",
    "\n",
    "paid_services "
   ]
  },
  {
   "cell_type": "code",
   "execution_count": 42,
   "metadata": {},
   "outputs": [
    {
     "data": {
      "text/plain": [
       "<AxesSubplot:>"
      ]
     },
     "execution_count": 42,
     "metadata": {},
     "output_type": "execute_result"
    },
    {
     "data": {
      "image/png": "[encoded data removed]",
      "text/plain": [
       "<Figure size 432x288 with 1 Axes>"
      ]
     },
     "metadata": {},
     "output_type": "display_data"
    }
   ],
   "source": [
    "canceled_paidTx = paid_data[ paid_data['service_status']=='Cancelled']\n",
    "pd.Series(canceled_paidTx.product_id).value_counts().plot(kind = 'bar')"
   ]
  },
  {
   "cell_type": "markdown",
   "metadata": {},
   "source": [
    "The number of cancelled services for some product is still very high. Taking product 9 into example, 1038 out of 2580 paid transactions are cancelled. Asking customers about feedback or the reason of cancelitation will help the product team to improve the product services and reduce the cancellitation rate. "
   ]
  },
  {
   "cell_type": "code",
   "execution_count": 43,
   "metadata": {},
   "outputs": [
    {
     "data": {
      "text/html": [
       "<div>\n",
       "<style scoped>\n",
       "    .dataframe tbody tr th:only-of-type {\n",
       "        vertical-align: middle;\n",
       "    }\n",
       "\n",
       "    .dataframe tbody tr th {\n",
       "        vertical-align: top;\n",
       "    }\n",
       "\n",
       "    .dataframe thead th {\n",
       "        text-align: right;\n",
       "    }\n",
       "</style>\n",
       "<table border=\"1\" class=\"dataframe\">\n",
       "  <thead>\n",
       "    <tr style=\"text-align: right;\">\n",
       "      <th>service_status</th>\n",
       "      <th>Active</th>\n",
       "      <th>Cancelled</th>\n",
       "      <th>Failed Setup</th>\n",
       "      <th>Pending Setup</th>\n",
       "      <th>Suspended</th>\n",
       "    </tr>\n",
       "    <tr>\n",
       "      <th>product_id</th>\n",
       "      <th></th>\n",
       "      <th></th>\n",
       "      <th></th>\n",
       "      <th></th>\n",
       "      <th></th>\n",
       "    </tr>\n",
       "  </thead>\n",
       "  <tbody>\n",
       "    <tr>\n",
       "      <th>1</th>\n",
       "      <td>70.0</td>\n",
       "      <td>1791.0</td>\n",
       "      <td>1.0</td>\n",
       "      <td>1840.0</td>\n",
       "      <td>22.0</td>\n",
       "    </tr>\n",
       "    <tr>\n",
       "      <th>2</th>\n",
       "      <td>384.0</td>\n",
       "      <td>5555.0</td>\n",
       "      <td>1.0</td>\n",
       "      <td>2360.0</td>\n",
       "      <td>40.0</td>\n",
       "    </tr>\n",
       "    <tr>\n",
       "      <th>3</th>\n",
       "      <td>379.0</td>\n",
       "      <td>6462.0</td>\n",
       "      <td>4.0</td>\n",
       "      <td>8073.0</td>\n",
       "      <td>75.0</td>\n",
       "    </tr>\n",
       "    <tr>\n",
       "      <th>4</th>\n",
       "      <td>123.0</td>\n",
       "      <td>2734.0</td>\n",
       "      <td>1.0</td>\n",
       "      <td>1614.0</td>\n",
       "      <td>23.0</td>\n",
       "    </tr>\n",
       "    <tr>\n",
       "      <th>5</th>\n",
       "      <td>21.0</td>\n",
       "      <td>125.0</td>\n",
       "      <td>1.0</td>\n",
       "      <td>200.0</td>\n",
       "      <td>9.0</td>\n",
       "    </tr>\n",
       "    <tr>\n",
       "      <th>6</th>\n",
       "      <td>11.0</td>\n",
       "      <td>48.0</td>\n",
       "      <td>NaN</td>\n",
       "      <td>69.0</td>\n",
       "      <td>2.0</td>\n",
       "    </tr>\n",
       "    <tr>\n",
       "      <th>7</th>\n",
       "      <td>15.0</td>\n",
       "      <td>48.0</td>\n",
       "      <td>1.0</td>\n",
       "      <td>180.0</td>\n",
       "      <td>2.0</td>\n",
       "    </tr>\n",
       "    <tr>\n",
       "      <th>8</th>\n",
       "      <td>5.0</td>\n",
       "      <td>24.0</td>\n",
       "      <td>NaN</td>\n",
       "      <td>50.0</td>\n",
       "      <td>1.0</td>\n",
       "    </tr>\n",
       "    <tr>\n",
       "      <th>9</th>\n",
       "      <td>53.0</td>\n",
       "      <td>783.0</td>\n",
       "      <td>NaN</td>\n",
       "      <td>326.0</td>\n",
       "      <td>65.0</td>\n",
       "    </tr>\n",
       "    <tr>\n",
       "      <th>10</th>\n",
       "      <td>4.0</td>\n",
       "      <td>276.0</td>\n",
       "      <td>1.0</td>\n",
       "      <td>80.0</td>\n",
       "      <td>15.0</td>\n",
       "    </tr>\n",
       "    <tr>\n",
       "      <th>11</th>\n",
       "      <td>17.0</td>\n",
       "      <td>234.0</td>\n",
       "      <td>NaN</td>\n",
       "      <td>281.0</td>\n",
       "      <td>30.0</td>\n",
       "    </tr>\n",
       "    <tr>\n",
       "      <th>12</th>\n",
       "      <td>7.0</td>\n",
       "      <td>145.0</td>\n",
       "      <td>NaN</td>\n",
       "      <td>97.0</td>\n",
       "      <td>6.0</td>\n",
       "    </tr>\n",
       "    <tr>\n",
       "      <th>13</th>\n",
       "      <td>NaN</td>\n",
       "      <td>37.0</td>\n",
       "      <td>NaN</td>\n",
       "      <td>34.0</td>\n",
       "      <td>4.0</td>\n",
       "    </tr>\n",
       "    <tr>\n",
       "      <th>14</th>\n",
       "      <td>3.0</td>\n",
       "      <td>101.0</td>\n",
       "      <td>NaN</td>\n",
       "      <td>106.0</td>\n",
       "      <td>9.0</td>\n",
       "    </tr>\n",
       "  </tbody>\n",
       "</table>\n",
       "</div>"
      ],
      "text/plain": [
       "service_status  Active  Cancelled  Failed Setup  Pending Setup  Suspended\n",
       "product_id                                                               \n",
       "1                 70.0     1791.0           1.0         1840.0       22.0\n",
       "2                384.0     5555.0           1.0         2360.0       40.0\n",
       "3                379.0     6462.0           4.0         8073.0       75.0\n",
       "4                123.0     2734.0           1.0         1614.0       23.0\n",
       "5                 21.0      125.0           1.0          200.0        9.0\n",
       "6                 11.0       48.0           NaN           69.0        2.0\n",
       "7                 15.0       48.0           1.0          180.0        2.0\n",
       "8                  5.0       24.0           NaN           50.0        1.0\n",
       "9                 53.0      783.0           NaN          326.0       65.0\n",
       "10                 4.0      276.0           1.0           80.0       15.0\n",
       "11                17.0      234.0           NaN          281.0       30.0\n",
       "12                 7.0      145.0           NaN           97.0        6.0\n",
       "13                 NaN       37.0           NaN           34.0        4.0\n",
       "14                 3.0      101.0           NaN          106.0        9.0"
      ]
     },
     "execution_count": 43,
     "metadata": {},
     "output_type": "execute_result"
    }
   ],
   "source": [
    "unpaidTx = data[data['invoice_status']=='Unpaid']\n",
    "unpaidTx_services = pd.pivot_table(unpaidTx, values='invoice_id', index=['product_id'],\n",
    "                    columns=['service_status'], aggfunc=len)\n",
    "\n",
    "unpaidTx_services "
   ]
  },
  {
   "cell_type": "markdown",
   "metadata": {},
   "source": [
    "From the table above we can clearly see that there are still some unpaid transaction that have active services. This data can be delivered to collection staff, so they can send reminder to the customers. While for the cancelled services in the unpaid transaction, asking customers about the reason of cancelitation will help the product team to improve the product services and reduce the cancellitation rate."
   ]
  },
  {
   "cell_type": "code",
   "execution_count": null,
   "metadata": {},
   "outputs": [],
   "source": []
  }
 ],
 "metadata": {
  "kernelspec": {
   "display_name": "Python 3",
   "language": "python",
   "name": "python3"
  },
  "language_info": {
   "codemirror_mode": {
    "name": "ipython",
    "version": 3
   },
   "file_extension": ".py",
   "mimetype": "text/x-python",
   "name": "python",
   "nbconvert_exporter": "python",
   "pygments_lexer": "ipython3",
   "version": "3.8.3"
  }
 },
 "nbformat": 4,
 "nbformat_minor": 4
}
